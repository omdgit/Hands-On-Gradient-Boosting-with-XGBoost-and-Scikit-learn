{
 "cells": [
  {
   "cell_type": "markdown",
   "metadata": {},
   "source": [
    "# Weights and Biases"
   ]
  },
  {
   "cell_type": "code",
   "execution_count": 7,
   "metadata": {},
   "outputs": [
    {
     "data": {
      "text/html": [
       "Finishing last run (ID:2ufcszfb) before initializing another..."
      ],
      "text/plain": [
       "<IPython.core.display.HTML object>"
      ]
     },
     "metadata": {},
     "output_type": "display_data"
    },
    {
     "data": {
      "text/html": [
       "Waiting for W&B process to finish... <strong style=\"color:green\">(success).</strong>"
      ],
      "text/plain": [
       "<IPython.core.display.HTML object>"
      ]
     },
     "metadata": {},
     "output_type": "display_data"
    },
    {
     "data": {
      "text/html": [
       "Synced <strong style=\"color:#cdcd00\">whole-puddle-5</strong>: <a href=\"https://wandb.ai/omd/my-test-project/runs/2ufcszfb\" target=\"_blank\">https://wandb.ai/omd/my-test-project/runs/2ufcszfb</a><br/>Synced 5 W&B file(s), 0 media file(s), 0 artifact file(s) and 0 other file(s)"
      ],
      "text/plain": [
       "<IPython.core.display.HTML object>"
      ]
     },
     "metadata": {},
     "output_type": "display_data"
    },
    {
     "data": {
      "text/html": [
       "Find logs at: <code>./wandb/run-20220810_193720-2ufcszfb/logs</code>"
      ],
      "text/plain": [
       "<IPython.core.display.HTML object>"
      ]
     },
     "metadata": {},
     "output_type": "display_data"
    },
    {
     "data": {
      "text/html": [
       "Successfully finished last run (ID:2ufcszfb). Initializing new run:<br/>"
      ],
      "text/plain": [
       "<IPython.core.display.HTML object>"
      ]
     },
     "metadata": {},
     "output_type": "display_data"
    },
    {
     "data": {
      "text/html": [
       "Tracking run with wandb version 0.13.1"
      ],
      "text/plain": [
       "<IPython.core.display.HTML object>"
      ]
     },
     "metadata": {},
     "output_type": "display_data"
    },
    {
     "data": {
      "text/html": [
       "Run data is saved locally in <code>/Users/oliverdreger/Documents/mygit/Hands-On-Gradient-Boosting-with-XGBoost-and-Scikit-learn/Chapter10/wandb/run-20220810_194230-18jrqydr</code>"
      ],
      "text/plain": [
       "<IPython.core.display.HTML object>"
      ]
     },
     "metadata": {},
     "output_type": "display_data"
    },
    {
     "data": {
      "text/html": [
       "Syncing run <strong><a href=\"https://wandb.ai/omd/Hands-On-Gradient-Boosting-with-XGBoost-and-Scikit-learn-Chapter10/runs/18jrqydr\" target=\"_blank\">solar-donkey-1</a></strong> to <a href=\"https://wandb.ai/omd/Hands-On-Gradient-Boosting-with-XGBoost-and-Scikit-learn-Chapter10\" target=\"_blank\">Weights & Biases</a> (<a href=\"https://wandb.me/run\" target=\"_blank\">docs</a>)<br/>"
      ],
      "text/plain": [
       "<IPython.core.display.HTML object>"
      ]
     },
     "metadata": {},
     "output_type": "display_data"
    },
    {
     "ename": "FileNotFoundError",
     "evalue": "./dermatology.data not found.",
     "output_type": "error",
     "traceback": [
      "\u001b[0;31m---------------------------------------------------------------------------\u001b[0m",
      "\u001b[0;31mFileNotFoundError\u001b[0m                         Traceback (most recent call last)",
      "\u001b[1;32m/Users/oliverdreger/Documents/mygit/Hands-On-Gradient-Boosting-with-XGBoost-and-Scikit-learn/Chapter10/wandb_test.ipynb Cell 2\u001b[0m in \u001b[0;36m<cell line: 10>\u001b[0;34m()\u001b[0m\n\u001b[1;32m      <a href='vscode-notebook-cell:/Users/oliverdreger/Documents/mygit/Hands-On-Gradient-Boosting-with-XGBoost-and-Scikit-learn/Chapter10/wandb_test.ipynb#W5sZmlsZQ%3D%3D?line=6'>7</a>\u001b[0m wandb\u001b[39m.\u001b[39minit()\n\u001b[1;32m      <a href='vscode-notebook-cell:/Users/oliverdreger/Documents/mygit/Hands-On-Gradient-Boosting-with-XGBoost-and-Scikit-learn/Chapter10/wandb_test.ipynb#W5sZmlsZQ%3D%3D?line=8'>9</a>\u001b[0m \u001b[39m# label need to be 0 to num_class -1\u001b[39;00m\n\u001b[0;32m---> <a href='vscode-notebook-cell:/Users/oliverdreger/Documents/mygit/Hands-On-Gradient-Boosting-with-XGBoost-and-Scikit-learn/Chapter10/wandb_test.ipynb#W5sZmlsZQ%3D%3D?line=9'>10</a>\u001b[0m data \u001b[39m=\u001b[39m np\u001b[39m.\u001b[39;49mloadtxt(\u001b[39m'\u001b[39;49m\u001b[39m./dermatology.data\u001b[39;49m\u001b[39m'\u001b[39;49m, delimiter\u001b[39m=\u001b[39;49m\u001b[39m'\u001b[39;49m\u001b[39m,\u001b[39;49m\u001b[39m'\u001b[39;49m,\n\u001b[1;32m     <a href='vscode-notebook-cell:/Users/oliverdreger/Documents/mygit/Hands-On-Gradient-Boosting-with-XGBoost-and-Scikit-learn/Chapter10/wandb_test.ipynb#W5sZmlsZQ%3D%3D?line=10'>11</a>\u001b[0m         converters\u001b[39m=\u001b[39;49m{\u001b[39m33\u001b[39;49m: \u001b[39mlambda\u001b[39;49;00m x:\u001b[39mint\u001b[39;49m(x \u001b[39m==\u001b[39;49m \u001b[39m'\u001b[39;49m\u001b[39m?\u001b[39;49m\u001b[39m'\u001b[39;49m), \u001b[39m34\u001b[39;49m: \u001b[39mlambda\u001b[39;49;00m x:\u001b[39mint\u001b[39;49m(x) \u001b[39m-\u001b[39;49m \u001b[39m1\u001b[39;49m})\n\u001b[1;32m     <a href='vscode-notebook-cell:/Users/oliverdreger/Documents/mygit/Hands-On-Gradient-Boosting-with-XGBoost-and-Scikit-learn/Chapter10/wandb_test.ipynb#W5sZmlsZQ%3D%3D?line=11'>12</a>\u001b[0m sz \u001b[39m=\u001b[39m data\u001b[39m.\u001b[39mshape\n\u001b[1;32m     <a href='vscode-notebook-cell:/Users/oliverdreger/Documents/mygit/Hands-On-Gradient-Boosting-with-XGBoost-and-Scikit-learn/Chapter10/wandb_test.ipynb#W5sZmlsZQ%3D%3D?line=13'>14</a>\u001b[0m train \u001b[39m=\u001b[39m data[:\u001b[39mint\u001b[39m(sz[\u001b[39m0\u001b[39m] \u001b[39m*\u001b[39m \u001b[39m0.7\u001b[39m), :]\n",
      "File \u001b[0;32m~/opt/anaconda3/envs/dcr/lib/python3.8/site-packages/numpy/lib/npyio.py:1308\u001b[0m, in \u001b[0;36mloadtxt\u001b[0;34m(fname, dtype, comments, delimiter, converters, skiprows, usecols, unpack, ndmin, encoding, max_rows, quotechar, like)\u001b[0m\n\u001b[1;32m   1305\u001b[0m \u001b[39mif\u001b[39;00m \u001b[39misinstance\u001b[39m(delimiter, \u001b[39mbytes\u001b[39m):\n\u001b[1;32m   1306\u001b[0m     delimiter \u001b[39m=\u001b[39m delimiter\u001b[39m.\u001b[39mdecode(\u001b[39m'\u001b[39m\u001b[39mlatin1\u001b[39m\u001b[39m'\u001b[39m)\n\u001b[0;32m-> 1308\u001b[0m arr \u001b[39m=\u001b[39m _read(fname, dtype\u001b[39m=\u001b[39;49mdtype, comment\u001b[39m=\u001b[39;49mcomment, delimiter\u001b[39m=\u001b[39;49mdelimiter,\n\u001b[1;32m   1309\u001b[0m             converters\u001b[39m=\u001b[39;49mconverters, skiplines\u001b[39m=\u001b[39;49mskiprows, usecols\u001b[39m=\u001b[39;49musecols,\n\u001b[1;32m   1310\u001b[0m             unpack\u001b[39m=\u001b[39;49munpack, ndmin\u001b[39m=\u001b[39;49mndmin, encoding\u001b[39m=\u001b[39;49mencoding,\n\u001b[1;32m   1311\u001b[0m             max_rows\u001b[39m=\u001b[39;49mmax_rows, quote\u001b[39m=\u001b[39;49mquotechar)\n\u001b[1;32m   1313\u001b[0m \u001b[39mreturn\u001b[39;00m arr\n",
      "File \u001b[0;32m~/opt/anaconda3/envs/dcr/lib/python3.8/site-packages/numpy/lib/npyio.py:955\u001b[0m, in \u001b[0;36m_read\u001b[0;34m(fname, delimiter, comment, quote, imaginary_unit, usecols, skiplines, max_rows, converters, ndmin, unpack, dtype, encoding)\u001b[0m\n\u001b[1;32m    953\u001b[0m     fname \u001b[39m=\u001b[39m os\u001b[39m.\u001b[39mfspath(fname)\n\u001b[1;32m    954\u001b[0m \u001b[39mif\u001b[39;00m \u001b[39misinstance\u001b[39m(fname, \u001b[39mstr\u001b[39m):\n\u001b[0;32m--> 955\u001b[0m     fh \u001b[39m=\u001b[39m np\u001b[39m.\u001b[39;49mlib\u001b[39m.\u001b[39;49m_datasource\u001b[39m.\u001b[39;49mopen(fname, \u001b[39m'\u001b[39;49m\u001b[39mrt\u001b[39;49m\u001b[39m'\u001b[39;49m, encoding\u001b[39m=\u001b[39;49mencoding)\n\u001b[1;32m    956\u001b[0m     \u001b[39mif\u001b[39;00m encoding \u001b[39mis\u001b[39;00m \u001b[39mNone\u001b[39;00m:\n\u001b[1;32m    957\u001b[0m         encoding \u001b[39m=\u001b[39m \u001b[39mgetattr\u001b[39m(fh, \u001b[39m'\u001b[39m\u001b[39mencoding\u001b[39m\u001b[39m'\u001b[39m, \u001b[39m'\u001b[39m\u001b[39mlatin1\u001b[39m\u001b[39m'\u001b[39m)\n",
      "File \u001b[0;32m~/opt/anaconda3/envs/dcr/lib/python3.8/site-packages/numpy/lib/_datasource.py:193\u001b[0m, in \u001b[0;36mopen\u001b[0;34m(path, mode, destpath, encoding, newline)\u001b[0m\n\u001b[1;32m    156\u001b[0m \u001b[39m\"\"\"\u001b[39;00m\n\u001b[1;32m    157\u001b[0m \u001b[39mOpen `path` with `mode` and return the file object.\u001b[39;00m\n\u001b[1;32m    158\u001b[0m \n\u001b[0;32m   (...)\u001b[0m\n\u001b[1;32m    189\u001b[0m \n\u001b[1;32m    190\u001b[0m \u001b[39m\"\"\"\u001b[39;00m\n\u001b[1;32m    192\u001b[0m ds \u001b[39m=\u001b[39m DataSource(destpath)\n\u001b[0;32m--> 193\u001b[0m \u001b[39mreturn\u001b[39;00m ds\u001b[39m.\u001b[39;49mopen(path, mode, encoding\u001b[39m=\u001b[39;49mencoding, newline\u001b[39m=\u001b[39;49mnewline)\n",
      "File \u001b[0;32m~/opt/anaconda3/envs/dcr/lib/python3.8/site-packages/numpy/lib/_datasource.py:533\u001b[0m, in \u001b[0;36mDataSource.open\u001b[0;34m(self, path, mode, encoding, newline)\u001b[0m\n\u001b[1;32m    530\u001b[0m     \u001b[39mreturn\u001b[39;00m _file_openers[ext](found, mode\u001b[39m=\u001b[39mmode,\n\u001b[1;32m    531\u001b[0m                               encoding\u001b[39m=\u001b[39mencoding, newline\u001b[39m=\u001b[39mnewline)\n\u001b[1;32m    532\u001b[0m \u001b[39melse\u001b[39;00m:\n\u001b[0;32m--> 533\u001b[0m     \u001b[39mraise\u001b[39;00m \u001b[39mFileNotFoundError\u001b[39;00m(\u001b[39mf\u001b[39m\u001b[39m\"\u001b[39m\u001b[39m{\u001b[39;00mpath\u001b[39m}\u001b[39;00m\u001b[39m not found.\u001b[39m\u001b[39m\"\u001b[39m)\n",
      "\u001b[0;31mFileNotFoundError\u001b[0m: ./dermatology.data not found."
     ]
    }
   ],
   "source": [
    "# modified from https://github.com/dmlc/xgboost/blob/master/demo/multiclass_classification/train.py\n",
    "\n",
    "import wandb\n",
    "import numpy as np\n",
    "import xgboost as xgb\n",
    "\n",
    "wandb.init()\n",
    "\n",
    "# label need to be 0 to num_class -1\n",
    "data = np.loadtxt('./dermatology.data', delimiter=',',\n",
    "        converters={33: lambda x:int(x == '?'), 34: lambda x:int(x) - 1})\n",
    "sz = data.shape\n",
    "\n",
    "train = data[:int(sz[0] * 0.7), :]\n",
    "test = data[int(sz[0] * 0.7):, :]\n",
    "\n",
    "train_X = train[:, :33]\n",
    "train_Y = train[:, 34]\n",
    "\n",
    "test_X = test[:, :33]\n",
    "test_Y = test[:, 34]\n",
    "\n",
    "xg_train = xgb.DMatrix(train_X, label=train_Y)\n",
    "xg_test = xgb.DMatrix(test_X, label=test_Y)\n",
    "# setup parameters for xgboost\n",
    "param = {}\n",
    "# use softmax multi-class classification\n",
    "param['objective'] = 'multi:softmax'\n",
    "# scale weight of positive examples\n",
    "param['eta'] = 0.1\n",
    "param['max_depth'] = 6\n",
    "param['silent'] = 1\n",
    "param['nthread'] = 4\n",
    "param['num_class'] = 6\n",
    "wandb.config.update(param)\n",
    "\n",
    "watchlist = [(xg_train, 'train'), (xg_test, 'test')]\n",
    "num_round = 5\n",
    "bst = xgb.train(param, xg_train, num_round, watchlist, callbacks=[wandb.xgboost.wandb_callback()])\n",
    "# get prediction\n",
    "pred = bst.predict(xg_test)\n",
    "error_rate = np.sum(pred != test_Y) / test_Y.shape[0]\n",
    "print('Test error using softmax = {}'.format(error_rate))\n",
    "wandb.summary['Error Rate'] = error_rate"
   ]
  },
  {
   "cell_type": "code",
   "execution_count": 6,
   "metadata": {},
   "outputs": [
    {
     "data": {
      "text/html": [
       "Finishing last run (ID:2pq9z52k) before initializing another..."
      ],
      "text/plain": [
       "<IPython.core.display.HTML object>"
      ]
     },
     "metadata": {},
     "output_type": "display_data"
    },
    {
     "data": {
      "text/html": [
       "Waiting for W&B process to finish... <strong style=\"color:green\">(success).</strong>"
      ],
      "text/plain": [
       "<IPython.core.display.HTML object>"
      ]
     },
     "metadata": {},
     "output_type": "display_data"
    },
    {
     "data": {
      "text/html": [
       "Synced <strong style=\"color:#cdcd00\">denim-elevator-4</strong>: <a href=\"https://wandb.ai/omd/my-test-project/runs/2pq9z52k\" target=\"_blank\">https://wandb.ai/omd/my-test-project/runs/2pq9z52k</a><br/>Synced 5 W&B file(s), 0 media file(s), 0 artifact file(s) and 0 other file(s)"
      ],
      "text/plain": [
       "<IPython.core.display.HTML object>"
      ]
     },
     "metadata": {},
     "output_type": "display_data"
    },
    {
     "data": {
      "text/html": [
       "Find logs at: <code>./wandb/run-20220810_193427-2pq9z52k/logs</code>"
      ],
      "text/plain": [
       "<IPython.core.display.HTML object>"
      ]
     },
     "metadata": {},
     "output_type": "display_data"
    },
    {
     "data": {
      "text/html": [
       "Successfully finished last run (ID:2pq9z52k). Initializing new run:<br/>"
      ],
      "text/plain": [
       "<IPython.core.display.HTML object>"
      ]
     },
     "metadata": {},
     "output_type": "display_data"
    },
    {
     "data": {
      "text/html": [
       "Tracking run with wandb version 0.13.1"
      ],
      "text/plain": [
       "<IPython.core.display.HTML object>"
      ]
     },
     "metadata": {},
     "output_type": "display_data"
    },
    {
     "data": {
      "text/html": [
       "Run data is saved locally in <code>/Users/oliverdreger/Documents/mygit/Hands-On-Gradient-Boosting-with-XGBoost-and-Scikit-learn/Chapter10/wandb/run-20220810_193720-2ufcszfb</code>"
      ],
      "text/plain": [
       "<IPython.core.display.HTML object>"
      ]
     },
     "metadata": {},
     "output_type": "display_data"
    },
    {
     "data": {
      "text/html": [
       "Syncing run <strong><a href=\"https://wandb.ai/omd/my-test-project/runs/2ufcszfb\" target=\"_blank\">whole-puddle-5</a></strong> to <a href=\"https://wandb.ai/omd/my-test-project\" target=\"_blank\">Weights & Biases</a> (<a href=\"https://wandb.me/run\" target=\"_blank\">docs</a>)<br/>"
      ],
      "text/plain": [
       "<IPython.core.display.HTML object>"
      ]
     },
     "metadata": {},
     "output_type": "display_data"
    },
    {
     "ename": "AttributeError",
     "evalue": "'XGBClassifier' object has no attribute 'train'",
     "output_type": "error",
     "traceback": [
      "\u001b[0;31m---------------------------------------------------------------------------\u001b[0m",
      "\u001b[0;31mAttributeError\u001b[0m                            Traceback (most recent call last)",
      "\u001b[1;32m/Users/oliverdreger/Documents/mygit/Hands-On-Gradient-Boosting-with-XGBoost-and-Scikit-learn/Chapter10/wandb_test.ipynb Cell 2\u001b[0m in \u001b[0;36m<cell line: 40>\u001b[0;34m()\u001b[0m\n\u001b[1;32m     <a href='vscode-notebook-cell:/Users/oliverdreger/Documents/mygit/Hands-On-Gradient-Boosting-with-XGBoost-and-Scikit-learn/Chapter10/wandb_test.ipynb#W4sZmlsZQ%3D%3D?line=37'>38</a>\u001b[0m xgb \u001b[39m=\u001b[39m XGBClassifier(\u001b[39m*\u001b[39m\u001b[39m*\u001b[39mparams, verbosity\u001b[39m=\u001b[39m\u001b[39m0\u001b[39m, random_state\u001b[39m=\u001b[39m\u001b[39m42\u001b[39m)\n\u001b[1;32m     <a href='vscode-notebook-cell:/Users/oliverdreger/Documents/mygit/Hands-On-Gradient-Boosting-with-XGBoost-and-Scikit-learn/Chapter10/wandb_test.ipynb#W4sZmlsZQ%3D%3D?line=38'>39</a>\u001b[0m wandb\u001b[39m.\u001b[39minit(project\u001b[39m=\u001b[39m\u001b[39m\"\u001b[39m\u001b[39mmy-test-project\u001b[39m\u001b[39m\"\u001b[39m)\n\u001b[0;32m---> <a href='vscode-notebook-cell:/Users/oliverdreger/Documents/mygit/Hands-On-Gradient-Boosting-with-XGBoost-and-Scikit-learn/Chapter10/wandb_test.ipynb#W4sZmlsZQ%3D%3D?line=39'>40</a>\u001b[0m bst \u001b[39m=\u001b[39m xgb\u001b[39m.\u001b[39;49mtrain(param, X_train, num_round, watchlist, callbacks\u001b[39m=\u001b[39m[wandb_callback()])\n\u001b[1;32m     <a href='vscode-notebook-cell:/Users/oliverdreger/Documents/mygit/Hands-On-Gradient-Boosting-with-XGBoost-and-Scikit-learn/Chapter10/wandb_test.ipynb#W4sZmlsZQ%3D%3D?line=40'>41</a>\u001b[0m pred \u001b[39m=\u001b[39m bst\u001b[39m.\u001b[39mpredict(xg_test)\n",
      "\u001b[0;31mAttributeError\u001b[0m: 'XGBClassifier' object has no attribute 'train'"
     ]
    }
   ],
   "source": [
    "import wandb\n",
    "import xgboost as xgb\n",
    "from wandb.xgboost import wandb_callback\n",
    "import numpy as np\n",
    "import matplotlib.pyplot as plt\n",
    "from itertools import cycle\n",
    "from sklearn import svm, datasets\n",
    "from sklearn.metrics import roc_curve, roc_auc_score, auc, classification_report, confusion_matrix, plot_roc_curve\n",
    "from sklearn.metrics import PrecisionRecallDisplay, average_precision_score\n",
    "from sklearn.model_selection import train_test_split\n",
    "from sklearn.preprocessing import label_binarize\n",
    "from sklearn.multiclass import OneVsRestClassifier\n",
    "from xgboost import XGBClassifier\n",
    "from collections import Counter\n",
    "import warnings\n",
    "import omdml \n",
    "\n",
    "warnings.filterwarnings('ignore')\n",
    "\n",
    "# Import some data to play with\n",
    "X, y = datasets.load_breast_cancer(return_X_y=True, as_frame=True)\n",
    "df = X.copy()\n",
    "df['target'] = y\n",
    "df.sample(frac=1, replace=True, random_state=42)\n",
    "X = df.iloc[:, :-1]\n",
    "y = df.iloc[:, -1]\n",
    "\n",
    "X_train, X_test, y_train, y_test = train_test_split(\n",
    "    X, y, stratify=y, test_size=0.3, random_state=42)\n",
    "\n",
    "params = {\n",
    "    'learning_rate': 0.1, \n",
    "    'n_estimators': 20, \n",
    "    'max_depth': 3, \n",
    "    'subsample': 0.7\n",
    "}\n",
    "\n",
    "xgb = XGBClassifier(**params, verbosity=0, random_state=42)\n",
    "wandb.init(project=\"my-test-project\")\n",
    "bst = xgb.train(param, X_train, num_round, watchlist, callbacks=[wandb_callback()])\n",
    "pred = bst.predict(xg_test)"
   ]
  }
 ],
 "metadata": {
  "kernelspec": {
   "display_name": "Python 3.8.5 ('dcr')",
   "language": "python",
   "name": "python3"
  },
  "language_info": {
   "codemirror_mode": {
    "name": "ipython",
    "version": 3
   },
   "file_extension": ".py",
   "mimetype": "text/x-python",
   "name": "python",
   "nbconvert_exporter": "python",
   "pygments_lexer": "ipython3",
   "version": "3.8.5"
  },
  "orig_nbformat": 4,
  "vscode": {
   "interpreter": {
    "hash": "a1d8f5fbaca742faf657a0ec32bfad031ab0ec50a0f634b2e6034c00f0a73e54"
   }
  }
 },
 "nbformat": 4,
 "nbformat_minor": 2
}
