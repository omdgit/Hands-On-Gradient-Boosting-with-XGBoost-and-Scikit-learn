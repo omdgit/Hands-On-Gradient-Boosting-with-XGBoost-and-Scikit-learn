{
 "cells": [
  {
   "cell_type": "markdown",
   "metadata": {},
   "source": [
    "# Scorecard"
   ]
  },
  {
   "cell_type": "markdown",
   "metadata": {},
   "source": [
    "### Example 1 \n",
    "[optbinning github](https://github.com/omdgit/optbinning#example-scorecard-with-continuous-target)"
   ]
  },
  {
   "cell_type": "code",
   "execution_count": 1,
   "metadata": {},
   "outputs": [],
   "source": [
    "import pandas as pd\n",
    "\n",
    "from sklearn.datasets import fetch_california_housing\n",
    "from sklearn.linear_model import HuberRegressor\n",
    "\n",
    "from optbinning import BinningProcess\n",
    "from optbinning import Scorecard\n",
    "\n",
    "data = fetch_california_housing()\n",
    "\n",
    "target = \"target\"\n",
    "variable_names = data.feature_names\n",
    "X = pd.DataFrame(data.data, columns=variable_names)\n",
    "y = data.target"
   ]
  },
  {
   "cell_type": "code",
   "execution_count": null,
   "metadata": {},
   "outputs": [],
   "source": []
  }
 ],
 "metadata": {
  "kernelspec": {
   "display_name": "Python 3.8.5 ('dcr')",
   "language": "python",
   "name": "python3"
  },
  "language_info": {
   "codemirror_mode": {
    "name": "ipython",
    "version": 3
   },
   "file_extension": ".py",
   "mimetype": "text/x-python",
   "name": "python",
   "nbconvert_exporter": "python",
   "pygments_lexer": "ipython3",
   "version": "3.8.5"
  },
  "orig_nbformat": 4,
  "vscode": {
   "interpreter": {
    "hash": "a1d8f5fbaca742faf657a0ec32bfad031ab0ec50a0f634b2e6034c00f0a73e54"
   }
  }
 },
 "nbformat": 4,
 "nbformat_minor": 2
}
