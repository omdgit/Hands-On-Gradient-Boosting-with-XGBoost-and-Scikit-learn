{
 "cells": [
  {
   "cell_type": "code",
   "execution_count": 9,
   "metadata": {},
   "outputs": [],
   "source": [
    "# Import pandas and numpy\n",
    "import pandas as pd\n",
    "import numpy as np\n",
    "\n",
    "# Import warnings\n",
    "import warnings\n",
    "warnings.filterwarnings('ignore')"
   ]
  },
  {
   "cell_type": "code",
   "execution_count": 10,
   "metadata": {},
   "outputs": [],
   "source": [
    "# Load dataset 'census_cleaned.csv'\n",
    "df_census = pd.read_csv('census_cleaned.csv')\n",
    "\n",
    "# Split data into X and y\n",
    "X = df_census.iloc[:,:-1]\n",
    "y = df_census.iloc[:,-1]\n",
    "\n",
    "# Import train_test_split\n",
    "from sklearn.model_selection import train_test_split\n",
    "\n",
    "# Split data into train and test sets\n",
    "X_train, X_test, y_train, y_test = train_test_split(X, y, random_state=2)"
   ]
  },
  {
   "cell_type": "code",
   "execution_count": 11,
   "metadata": {},
   "outputs": [
    {
     "data": {
      "text/plain": [
       "0.8131679154894976"
      ]
     },
     "execution_count": 11,
     "metadata": {},
     "output_type": "execute_result"
    }
   ],
   "source": [
    "# Import Decision Tree classifier\n",
    "from sklearn.tree import DecisionTreeClassifier\n",
    "\n",
    "# Import accuracy_score\n",
    "from sklearn.metrics import accuracy_score\n",
    "\n",
    "# Initialize classification model\n",
    "clf = DecisionTreeClassifier(random_state=2)\n",
    "\n",
    "# Fit model on training data\n",
    "clf.fit(X_train, y_train)\n",
    "\n",
    "# Make predictions for test data\n",
    "y_pred = clf.predict(X_test)\n",
    "\n",
    "# Calculate accuracy\n",
    "accuracy_score(y_pred, y_test)"
   ]
  },
  {
   "cell_type": "code",
   "execution_count": 12,
   "metadata": {},
   "outputs": [],
   "source": [
    "# Download bike_rentals_cleaned dataset\n",
    "df_bikes = pd.read_csv('bike_rentals_cleaned.csv')\n",
    "\n",
    "# Split data into X and y\n",
    "X_bikes = df_bikes.iloc[:,:-1]\n",
    "y_bikes = df_bikes.iloc[:,-1]\n",
    "\n",
    "# Import Linear Regression\n",
    "from sklearn.linear_model import LinearRegression\n",
    "\n",
    "# Split data into train and test sets\n",
    "X_train, X_test, y_train, y_test = train_test_split(X_bikes, y_bikes, random_state=2)"
   ]
  },
  {
   "cell_type": "code",
   "execution_count": 13,
   "metadata": {},
   "outputs": [],
   "source": [
    "# Import Decision Tree Regressor\n",
    "from sklearn.tree import DecisionTreeRegressor\n",
    "\n",
    "# Import cross_val_score\n",
    "from sklearn.model_selection import cross_val_score"
   ]
  },
  {
   "cell_type": "code",
   "execution_count": 14,
   "metadata": {},
   "outputs": [
    {
     "name": "stdout",
     "output_type": "stream",
     "text": [
      "RMSE mean: 1233.36\n"
     ]
    }
   ],
   "source": [
    "# Initialize Decision Tree Regressor\n",
    "reg = DecisionTreeRegressor(random_state=2)\n",
    "\n",
    "# Obtain scores of cross-validation using mean squared error\n",
    "scores = cross_val_score(reg, X_bikes, y_bikes, scoring='neg_mean_squared_error', cv=5)\n",
    "\n",
    "# Take square root of the scores\n",
    "rmse = np.sqrt(-scores)\n",
    "\n",
    "# Display mean score\n",
    "print('RMSE mean: %0.2f' % (rmse.mean()))"
   ]
  },
  {
   "cell_type": "code",
   "execution_count": 15,
   "metadata": {},
   "outputs": [
    {
     "data": {
      "text/plain": [
       "0.0"
      ]
     },
     "execution_count": 15,
     "metadata": {},
     "output_type": "execute_result"
    }
   ],
   "source": [
    "# Initialize and score DecisionTreeRegressor on training set\n",
    "reg = DecisionTreeRegressor()\n",
    "reg.fit(X_train, y_train)\n",
    "y_pred = reg.predict(X_train)\n",
    "from sklearn.metrics import mean_squared_error\n",
    "reg_mse = mean_squared_error(y_train, y_pred)\n",
    "reg_rmse = np.sqrt(reg_mse)\n",
    "reg_rmse"
   ]
  },
  {
   "cell_type": "code",
   "execution_count": 16,
   "metadata": {},
   "outputs": [
    {
     "name": "stdout",
     "output_type": "stream",
     "text": [
      "Best params: {'max_depth': 6}\n"
     ]
    }
   ],
   "source": [
    "# Import GridSearchCV\n",
    "from sklearn.model_selection import GridSearchCV\n",
    "\n",
    "# Choose max_depth hyperparameters\n",
    "params = {'max_depth':[None,2,3,4,6,8,10,20]}\n",
    "\n",
    "# Initialize regression model as reg\n",
    "reg = DecisionTreeRegressor(random_state=2)\n",
    "\n",
    "# Initialize GridSearchCV as grid_reg\n",
    "grid_reg = GridSearchCV(reg, params, scoring='neg_mean_squared_error', cv=5, n_jobs=-1)\n",
    "\n",
    "# Fit grid_reg on X_train and y_train\n",
    "grid_reg.fit(X_train, y_train)\n",
    "\n",
    "# Extract best parameters\n",
    "best_params = grid_reg.best_params_\n",
    "\n",
    "# Print best hyperparameters\n",
    "print(\"Best params:\", best_params)"
   ]
  },
  {
   "cell_type": "code",
   "execution_count": 17,
   "metadata": {},
   "outputs": [
    {
     "name": "stdout",
     "output_type": "stream",
     "text": [
      "Training score: 951.398\n"
     ]
    }
   ],
   "source": [
    "# Compute best score\n",
    "best_score = np.sqrt(-grid_reg.best_score_)\n",
    "\n",
    "# Print best score\n",
    "print(\"Training score: {:.3f}\".format(best_score))"
   ]
  },
  {
   "cell_type": "code",
   "execution_count": 18,
   "metadata": {},
   "outputs": [
    {
     "name": "stdout",
     "output_type": "stream",
     "text": [
      "Test score: 864.670\n"
     ]
    }
   ],
   "source": [
    "# Extract best model\n",
    "best_model = grid_reg.best_estimator_\n",
    "\n",
    "# Predict test set labels\n",
    "y_pred = best_model.predict(X_test)\n",
    "\n",
    "# Import mean_squared_error from sklearn.metrics as MSE \n",
    "from sklearn.metrics import mean_squared_error\n",
    "\n",
    "# Compute rmse_test\n",
    "rmse_test = mean_squared_error(y_test, y_pred)**0.5\n",
    "\n",
    "# Print rmse_test\n",
    "print('Test score: {:.3f}'.format(rmse_test))"
   ]
  },
  {
   "cell_type": "code",
   "execution_count": 19,
   "metadata": {},
   "outputs": [],
   "source": [
    "# Create grid_search function\n",
    "def grid_search(params, reg=DecisionTreeRegressor(random_state=2)):\n",
    "\n",
    "    # Instantiate GridSearchCV as grid_reg\n",
    "    grid_reg = GridSearchCV(reg, params, scoring='neg_mean_squared_error', cv=5, n_jobs=-1)\n",
    "    \n",
    "    # Fit grid_reg on X_train and y_train\n",
    "    grid_reg.fit(X_train, y_train)\n",
    "\n",
    "    # Extract best params\n",
    "    best_params = grid_reg.best_params_\n",
    "\n",
    "    # Print best params\n",
    "    print(\"Best params:\", best_params)\n",
    "    \n",
    "    # Compute best score\n",
    "    best_score = np.sqrt(-grid_reg.best_score_)\n",
    "\n",
    "    # Print best score\n",
    "    print(\"Training score: {:.3f}\".format(best_score))\n",
    "\n",
    "    # Predict test set labels\n",
    "    y_pred = grid_reg.predict(X_test)\n",
    "\n",
    "    # Compute rmse_test\n",
    "    rmse_test = mean_squared_error(y_test, y_pred)**0.5\n",
    "\n",
    "    # Print rmse_test\n",
    "    print('Test score: {:.3f}'.format(rmse_test))"
   ]
  },
  {
   "cell_type": "code",
   "execution_count": 20,
   "metadata": {},
   "outputs": [
    {
     "data": {
      "text/plain": [
       "(548, 12)"
      ]
     },
     "execution_count": 20,
     "metadata": {},
     "output_type": "execute_result"
    }
   ],
   "source": [
    "X_train.shape"
   ]
  },
  {
   "cell_type": "code",
   "execution_count": 21,
   "metadata": {},
   "outputs": [
    {
     "name": "stdout",
     "output_type": "stream",
     "text": [
      "Best params: {'min_samples_leaf': 8}\n",
      "Training score: 896.083\n",
      "Test score: 855.620\n"
     ]
    }
   ],
   "source": [
    "grid_search(params={'min_samples_leaf':[1,2,4,6,8,10,20,30]})"
   ]
  },
  {
   "cell_type": "code",
   "execution_count": 22,
   "metadata": {},
   "outputs": [
    {
     "name": "stdout",
     "output_type": "stream",
     "text": [
      "Best params: {'max_depth': 6, 'min_samples_leaf': 2}\n",
      "Training score: 870.396\n",
      "Test score: 913.000\n"
     ]
    }
   ],
   "source": [
    "grid_search(params={'max_depth':[None,2,3,4,6,8,10,20],'min_samples_leaf':[1,2,4,6,8,10,20,30]})"
   ]
  },
  {
   "cell_type": "code",
   "execution_count": 23,
   "metadata": {
    "scrolled": true
   },
   "outputs": [
    {
     "name": "stdout",
     "output_type": "stream",
     "text": [
      "Best params: {'max_depth': 9, 'min_samples_leaf': 7}\n",
      "Training score: 888.905\n",
      "Test score: 878.538\n"
     ]
    }
   ],
   "source": [
    "grid_search(params={'max_depth':[5,6,7,8,9],'min_samples_leaf':[3,5,7,9]})"
   ]
  },
  {
   "cell_type": "markdown",
   "metadata": {},
   "source": [
    "# Case Study - Heart Disease"
   ]
  },
  {
   "cell_type": "code",
   "execution_count": 24,
   "metadata": {},
   "outputs": [
    {
     "data": {
      "text/html": [
       "<div>\n",
       "<style scoped>\n",
       "    .dataframe tbody tr th:only-of-type {\n",
       "        vertical-align: middle;\n",
       "    }\n",
       "\n",
       "    .dataframe tbody tr th {\n",
       "        vertical-align: top;\n",
       "    }\n",
       "\n",
       "    .dataframe thead th {\n",
       "        text-align: right;\n",
       "    }\n",
       "</style>\n",
       "<table border=\"1\" class=\"dataframe\">\n",
       "  <thead>\n",
       "    <tr style=\"text-align: right;\">\n",
       "      <th></th>\n",
       "      <th>age</th>\n",
       "      <th>sex</th>\n",
       "      <th>cp</th>\n",
       "      <th>trestbps</th>\n",
       "      <th>chol</th>\n",
       "      <th>fbs</th>\n",
       "      <th>restecg</th>\n",
       "      <th>thalach</th>\n",
       "      <th>exang</th>\n",
       "      <th>oldpeak</th>\n",
       "      <th>slope</th>\n",
       "      <th>ca</th>\n",
       "      <th>thal</th>\n",
       "      <th>target</th>\n",
       "    </tr>\n",
       "  </thead>\n",
       "  <tbody>\n",
       "    <tr>\n",
       "      <th>0</th>\n",
       "      <td>63</td>\n",
       "      <td>1</td>\n",
       "      <td>3</td>\n",
       "      <td>145</td>\n",
       "      <td>233</td>\n",
       "      <td>1</td>\n",
       "      <td>0</td>\n",
       "      <td>150</td>\n",
       "      <td>0</td>\n",
       "      <td>2.3</td>\n",
       "      <td>0</td>\n",
       "      <td>0</td>\n",
       "      <td>1</td>\n",
       "      <td>1</td>\n",
       "    </tr>\n",
       "    <tr>\n",
       "      <th>1</th>\n",
       "      <td>37</td>\n",
       "      <td>1</td>\n",
       "      <td>2</td>\n",
       "      <td>130</td>\n",
       "      <td>250</td>\n",
       "      <td>0</td>\n",
       "      <td>1</td>\n",
       "      <td>187</td>\n",
       "      <td>0</td>\n",
       "      <td>3.5</td>\n",
       "      <td>0</td>\n",
       "      <td>0</td>\n",
       "      <td>2</td>\n",
       "      <td>1</td>\n",
       "    </tr>\n",
       "    <tr>\n",
       "      <th>2</th>\n",
       "      <td>41</td>\n",
       "      <td>0</td>\n",
       "      <td>1</td>\n",
       "      <td>130</td>\n",
       "      <td>204</td>\n",
       "      <td>0</td>\n",
       "      <td>0</td>\n",
       "      <td>172</td>\n",
       "      <td>0</td>\n",
       "      <td>1.4</td>\n",
       "      <td>2</td>\n",
       "      <td>0</td>\n",
       "      <td>2</td>\n",
       "      <td>1</td>\n",
       "    </tr>\n",
       "    <tr>\n",
       "      <th>3</th>\n",
       "      <td>56</td>\n",
       "      <td>1</td>\n",
       "      <td>1</td>\n",
       "      <td>120</td>\n",
       "      <td>236</td>\n",
       "      <td>0</td>\n",
       "      <td>1</td>\n",
       "      <td>178</td>\n",
       "      <td>0</td>\n",
       "      <td>0.8</td>\n",
       "      <td>2</td>\n",
       "      <td>0</td>\n",
       "      <td>2</td>\n",
       "      <td>1</td>\n",
       "    </tr>\n",
       "    <tr>\n",
       "      <th>4</th>\n",
       "      <td>57</td>\n",
       "      <td>0</td>\n",
       "      <td>0</td>\n",
       "      <td>120</td>\n",
       "      <td>354</td>\n",
       "      <td>0</td>\n",
       "      <td>1</td>\n",
       "      <td>163</td>\n",
       "      <td>1</td>\n",
       "      <td>0.6</td>\n",
       "      <td>2</td>\n",
       "      <td>0</td>\n",
       "      <td>2</td>\n",
       "      <td>1</td>\n",
       "    </tr>\n",
       "  </tbody>\n",
       "</table>\n",
       "</div>"
      ],
      "text/plain": [
       "   age  sex  cp  trestbps  chol  fbs  restecg  thalach  exang  oldpeak  slope  \\\n",
       "0   63    1   3       145   233    1        0      150      0      2.3      0   \n",
       "1   37    1   2       130   250    0        1      187      0      3.5      0   \n",
       "2   41    0   1       130   204    0        0      172      0      1.4      2   \n",
       "3   56    1   1       120   236    0        1      178      0      0.8      2   \n",
       "4   57    0   0       120   354    0        1      163      1      0.6      2   \n",
       "\n",
       "   ca  thal  target  \n",
       "0   0     1       1  \n",
       "1   0     2       1  \n",
       "2   0     2       1  \n",
       "3   0     2       1  \n",
       "4   0     2       1  "
      ]
     },
     "execution_count": 24,
     "metadata": {},
     "output_type": "execute_result"
    }
   ],
   "source": [
    "# Upload heart.csv to dataFrame\n",
    "df_heart = pd.read_csv('heart_disease.csv')\n",
    "\n",
    "# Show first five rows\n",
    "df_heart.head()"
   ]
  },
  {
   "cell_type": "code",
   "execution_count": 25,
   "metadata": {},
   "outputs": [],
   "source": [
    "# split data into X and y\n",
    "X = df_heart.iloc[:,:-1]\n",
    "y = df_heart.iloc[:,-1]\n",
    "\n",
    "# Split data into train and test sets\n",
    "X_train, X_test, y_train, y_test = train_test_split(X, y, random_state=2)"
   ]
  },
  {
   "cell_type": "code",
   "execution_count": 26,
   "metadata": {},
   "outputs": [
    {
     "name": "stdout",
     "output_type": "stream",
     "text": [
      "Accuracy: [0.74 0.85 0.77 0.73 0.7 ]\n",
      "Accuracy mean: 0.76\n"
     ]
    }
   ],
   "source": [
    "# Initialize Decision Tree Classifier\n",
    "model = DecisionTreeClassifier(random_state=2)\n",
    "\n",
    "# Obtain scores of cross-validation\n",
    "scores = cross_val_score(model, X, y, cv=5)\n",
    "\n",
    "# Display accuracy\n",
    "print('Accuracy:', np.round(scores, 2))\n",
    "\n",
    "# Display mean accuracy\n",
    "print('Accuracy mean: %0.2f' % (scores.mean()))"
   ]
  },
  {
   "cell_type": "code",
   "execution_count": 27,
   "metadata": {},
   "outputs": [],
   "source": [
    "# Import RandomizedSearchCV\n",
    "from sklearn.model_selection import RandomizedSearchCV\n",
    "\n",
    "def randomized_search_clf(params, runs=20, clf=DecisionTreeClassifier(random_state=2)):\n",
    "\n",
    "    # Instantiate GridSearchCV as grid_reg\n",
    "    rand_clf = RandomizedSearchCV(clf, params, n_iter=runs, \n",
    "                                  cv=5, n_jobs=-1, random_state=2)\n",
    "    \n",
    "    # Fit grid_reg on X_train and y_train\n",
    "    rand_clf.fit(X_train, y_train)\n",
    "\n",
    "    # Extract best estimator\n",
    "    best_model = rand_clf.best_estimator_\n",
    "    \n",
    "    # Extract best score\n",
    "    best_score = rand_clf.best_score_\n",
    "\n",
    "    # Print best score\n",
    "    print(\"Training score: {:.3f}\".format(best_score))\n",
    "\n",
    "    # Predict test set labels\n",
    "    y_pred = best_model.predict(X_test)\n",
    "\n",
    "    # Compute accuracy\n",
    "    accuracy = accuracy_score(y_test, y_pred)\n",
    "\n",
    "    # Print accuracy\n",
    "    print('Test score: {:.3f}'.format(accuracy))\n",
    "        \n",
    "    # Return best model\n",
    "    return best_model"
   ]
  },
  {
   "cell_type": "code",
   "execution_count": 28,
   "metadata": {},
   "outputs": [
    {
     "name": "stdout",
     "output_type": "stream",
     "text": [
      "Training score: 0.798\n",
      "Test score: 0.855\n"
     ]
    },
    {
     "data": {
      "text/plain": [
       "DecisionTreeClassifier(criterion='entropy', max_depth=8, max_features=0.8,\n",
       "                       max_leaf_nodes=45, min_samples_leaf=0.04,\n",
       "                       min_samples_split=10, min_weight_fraction_leaf=0.05,\n",
       "                       random_state=2)"
      ]
     },
     "execution_count": 28,
     "metadata": {},
     "output_type": "execute_result"
    }
   ],
   "source": [
    "randomized_search_clf(params={'criterion':['entropy', 'gini'],\n",
    "                            'splitter':['random', 'best'],\n",
    "                            'min_weight_fraction_leaf':[0.0, 0.0025, 0.005, 0.0075, 0.01],\n",
    "                            'min_samples_split':[2, 3, 4, 5, 6, 8, 10],\n",
    "                            'min_samples_leaf':[1, 0.01, 0.02, 0.03, 0.04],\n",
    "                            'min_impurity_decrease':[0.0, 0.0005, 0.005, 0.05, 0.10, 0.15, 0.2],\n",
    "                            'max_leaf_nodes':[10, 15, 20, 25, 30, 35, 40, 45, 50, None],\n",
    "                            'max_features':['auto', 0.95, 0.90, 0.85, 0.80, 0.75, 0.70],\n",
    "                            'max_depth':[None, 2,4,6,8],\n",
    "                            'min_weight_fraction_leaf':[0.0, 0.0025, 0.005, 0.0075, 0.01, 0.05]\n",
    "                            })"
   ]
  },
  {
   "cell_type": "code",
   "execution_count": 29,
   "metadata": {},
   "outputs": [
    {
     "name": "stdout",
     "output_type": "stream",
     "text": [
      "Training score: 0.802\n",
      "Test score: 0.868\n"
     ]
    },
    {
     "data": {
      "text/plain": [
       "DecisionTreeClassifier(max_depth=7, max_features=0.78, max_leaf_nodes=45,\n",
       "                       min_samples_leaf=0.045, min_samples_split=9,\n",
       "                       min_weight_fraction_leaf=0.06, random_state=2)"
      ]
     },
     "execution_count": 29,
     "metadata": {},
     "output_type": "execute_result"
    }
   ],
   "source": [
    "randomized_search_clf(params={'max_depth':[None, 6, 7],\n",
    "                                'max_features':['auto', 0.78],\n",
    "                                'max_leaf_nodes':[45, None],\n",
    "                                'min_samples_leaf':[1, 0.035, 0.04, 0.045, 0.05],\n",
    "                                'min_samples_split':[2, 9, 10],\n",
    "                                'min_weight_fraction_leaf': [0.0, 0.05, 0.06, 0.07],\n",
    "                                },\n",
    "                                runs=100)"
   ]
  },
  {
   "cell_type": "code",
   "execution_count": 30,
   "metadata": {},
   "outputs": [
    {
     "name": "stdout",
     "output_type": "stream",
     "text": [
      "Accuracy: [0.82 0.9  0.8  0.8  0.78]\n",
      "Accuracy mean: 0.82\n"
     ]
    }
   ],
   "source": [
    "# Initialize Decision Tree Classifier\n",
    "model = DecisionTreeClassifier(class_weight=None, \n",
    "                                criterion='gini', \n",
    "                                max_depth=7,\n",
    "                                max_features=0.78, \n",
    "                                max_leaf_nodes=45,\n",
    "                                min_impurity_decrease=0.0, \n",
    "                                # min_impurity_split=None,\n",
    "                                min_samples_leaf=0.045, \n",
    "                                min_samples_split=9,\n",
    "                                min_weight_fraction_leaf=0.06, \n",
    "                                # presort=False, \n",
    "                                random_state=2,\n",
    "                                splitter='best')\n",
    "\n",
    "# Obtain scores of cross-validation\n",
    "scores = cross_val_score(model, X, y, cv=5)\n",
    "\n",
    "# Display accuracy\n",
    "print('Accuracy:', np.round(scores, 2))\n",
    "\n",
    "# Display mean accuracy\n",
    "print('Accuracy mean: %0.2f' % (scores.mean()))"
   ]
  },
  {
   "cell_type": "code",
   "execution_count": 31,
   "metadata": {},
   "outputs": [
    {
     "data": {
      "text/plain": [
       "DecisionTreeClassifier(max_depth=7, max_features=0.78, max_leaf_nodes=45,\n",
       "                       min_samples_leaf=0.045, min_samples_split=9,\n",
       "                       min_weight_fraction_leaf=0.06, random_state=2)"
      ]
     },
     "execution_count": 31,
     "metadata": {},
     "output_type": "execute_result"
    }
   ],
   "source": [
    "best_clf = DecisionTreeClassifier(class_weight=None, criterion='gini', max_depth=7,\n",
    "                       max_features=0.78, max_leaf_nodes=45,\n",
    "                       min_impurity_decrease=0.0, \n",
    "                    #    min_impurity_split=None,\n",
    "                       min_samples_leaf=0.045, min_samples_split=9,\n",
    "                       min_weight_fraction_leaf=0.06, \n",
    "                    #    presort=False,\n",
    "                       random_state=2, splitter='best')\n",
    "best_clf.fit(X, y)"
   ]
  },
  {
   "cell_type": "code",
   "execution_count": 32,
   "metadata": {},
   "outputs": [
    {
     "name": "stdout",
     "output_type": "stream",
     "text": [
      "Train dataset:\n",
      "ROC = 0.91\n",
      "Accuracy: 0.81\n",
      "         fpr    tpr\n",
      "0   0.000000  0.000\n",
      "1   0.000000  0.336\n",
      "2   0.019608  0.464\n",
      "3   0.068627  0.656\n",
      "4   0.156863  0.816\n",
      "5   0.254902  0.864\n",
      "6   0.323529  0.928\n",
      "7   0.441176  0.960\n",
      "8   0.588235  0.992\n",
      "9   0.774510  1.000\n",
      "10  1.000000  1.000\n"
     ]
    },
    {
     "data": {
      "image/png": "[encoded data removed]",
      "text/plain": [
       "<Figure size 360x360 with 1 Axes>"
      ]
     },
     "metadata": {
      "needs_background": "light"
     },
     "output_type": "display_data"
    },
    {
     "name": "stdout",
     "output_type": "stream",
     "text": [
      "Test dataset:\n",
      "ROC = 0.96\n",
      "Accuracy: 0.92\n",
      "         fpr    tpr\n",
      "0   0.000000  0.000\n",
      "1   0.000000  0.375\n",
      "2   0.000000  0.475\n",
      "3   0.027778  0.675\n",
      "4   0.111111  0.825\n",
      "5   0.138889  0.975\n",
      "6   0.277778  0.975\n",
      "7   0.361111  0.975\n",
      "8   0.555556  1.000\n",
      "9   0.722222  1.000\n",
      "10  1.000000  1.000\n"
     ]
    },
    {
     "data": {
      "image/png": "[encoded data removed]",
      "text/plain": [
       "<Figure size 360x360 with 1 Axes>"
      ]
     },
     "metadata": {
      "needs_background": "light"
     },
     "output_type": "display_data"
    }
   ],
   "source": [
    "#omd\n",
    "# ROC curve\n",
    "from sklearn import metrics\n",
    "import matplotlib.pyplot as plt\n",
    "from sklearn.metrics import roc_auc_score\n",
    "from sklearn.metrics import accuracy_score\n",
    "\n",
    "X_ds = [X_train, X_test]\n",
    "Y_ds = [y_train, y_test]\n",
    "titles = ['Train dataset', 'Test dataset']\n",
    "\n",
    "for i in range(2):\n",
    "    print('{}:'.format(titles[i]))\n",
    "    roc = roc_auc_score(Y_ds[i], best_clf.predict_proba(X_ds[i])[:, 1])\n",
    "    print('ROC = {0:0.2f}'.format(roc))\n",
    "\n",
    "    predictions = [0 if i < 0.5 else 1 for i in best_clf.predict_proba(X_ds[i])[:, 1]]\n",
    "    acc = accuracy_score(Y_ds[i].values, predictions)\n",
    "    print('Accuracy: {0:0.2f}'.format(acc))\n",
    "\n",
    "    y_pred_proba = best_clf.predict_proba(X_ds[i])[:,1]\n",
    "    fpr, tpr, _ = metrics.roc_curve(Y_ds[i],  y_pred_proba)\n",
    "    df = pd.DataFrame({'fpr':fpr, 'tpr':tpr})\n",
    "    print(df)\n",
    "\n",
    "    #create ROC curve\n",
    "    plt.figure(figsize=(5, 5))\n",
    "    plt.plot(fpr,tpr, label='ROC curve of Decision Tree')\n",
    "    plt.plot([0, 1], [0, 1], color='grey', ls='--')\n",
    "    plt.title('ROC curve', size=14)\n",
    "    plt.ylabel('True Positive Rate')\n",
    "    plt.xlabel('False Positive Rate')\n",
    "    plt.grid(True)\n",
    "    plt.legend()\n",
    "    plt.show()"
   ]
  },
  {
   "cell_type": "code",
   "execution_count": 33,
   "metadata": {},
   "outputs": [
    {
     "name": "stdout",
     "output_type": "stream",
     "text": [
      "Accuracy: [0.82 0.9  0.8  0.8  0.78]\n",
      "Accuracy mean: 0.82\n",
      "ROC: [0.86 0.93 0.86 0.88 0.79]\n",
      "ROC mean: 0.86\n",
      "Target variable:\n",
      "1    165\n",
      "0    138\n",
      "Name: target, dtype: int64\n"
     ]
    },
    {
     "data": {
      "image/png": "[encoded data removed]",
      "text/plain": [
       "<Figure size 360x360 with 1 Axes>"
      ]
     },
     "metadata": {
      "needs_background": "light"
     },
     "output_type": "display_data"
    },
    {
     "data": {
      "text/plain": [
       "[Text(0.5131578947368421, 0.9, 'X[2] <= 0.5\\ngini = 0.496\\nsamples = 303\\nvalue = [138, 165]'),\n",
       " Text(0.2631578947368421, 0.7, 'X[11] <= 0.5\\ngini = 0.397\\nsamples = 143\\nvalue = [104, 39]'),\n",
       " Text(0.15789473684210525, 0.5, 'X[12] <= 2.5\\ngini = 0.499\\nsamples = 65\\nvalue = [31, 34]'),\n",
       " Text(0.10526315789473684, 0.3, 'X[0] <= 53.5\\ngini = 0.361\\nsamples = 38\\nvalue = [9, 29]'),\n",
       " Text(0.05263157894736842, 0.1, 'gini = 0.266\\nsamples = 19\\nvalue = [3, 16]'),\n",
       " Text(0.15789473684210525, 0.1, 'gini = 0.432\\nsamples = 19\\nvalue = [6, 13]'),\n",
       " Text(0.21052631578947367, 0.3, 'gini = 0.302\\nsamples = 27\\nvalue = [22, 5]'),\n",
       " Text(0.3684210526315789, 0.5, 'X[3] <= 131.0\\ngini = 0.12\\nsamples = 78\\nvalue = [73, 5]'),\n",
       " Text(0.3157894736842105, 0.3, 'X[9] <= 1.1\\ngini = 0.198\\nsamples = 45\\nvalue = [40, 5]'),\n",
       " Text(0.2631578947368421, 0.1, 'gini = 0.332\\nsamples = 19\\nvalue = [15, 4]'),\n",
       " Text(0.3684210526315789, 0.1, 'gini = 0.074\\nsamples = 26\\nvalue = [25, 1]'),\n",
       " Text(0.42105263157894735, 0.3, 'gini = 0.0\\nsamples = 33\\nvalue = [33, 0]'),\n",
       " Text(0.7631578947368421, 0.7, 'X[12] <= 2.5\\ngini = 0.335\\nsamples = 160\\nvalue = [34, 126]'),\n",
       " Text(0.631578947368421, 0.5, 'X[0] <= 55.5\\ngini = 0.229\\nsamples = 121\\nvalue = [16, 105]'),\n",
       " Text(0.5263157894736842, 0.3, 'X[7] <= 155.5\\ngini = 0.076\\nsamples = 76\\nvalue = [3, 73]'),\n",
       " Text(0.47368421052631576, 0.1, 'gini = 0.266\\nsamples = 19\\nvalue = [3, 16]'),\n",
       " Text(0.5789473684210527, 0.1, 'gini = 0.0\\nsamples = 57\\nvalue = [0, 57]'),\n",
       " Text(0.7368421052631579, 0.3, 'X[1] <= 0.5\\ngini = 0.411\\nsamples = 45\\nvalue = [13, 32]'),\n",
       " Text(0.6842105263157895, 0.1, 'gini = 0.165\\nsamples = 22\\nvalue = [2, 20]'),\n",
       " Text(0.7894736842105263, 0.1, 'gini = 0.499\\nsamples = 23\\nvalue = [11, 12]'),\n",
       " Text(0.8947368421052632, 0.5, 'X[9] <= 0.9\\ngini = 0.497\\nsamples = 39\\nvalue = [18, 21]'),\n",
       " Text(0.8421052631578947, 0.3, 'gini = 0.432\\nsamples = 19\\nvalue = [6, 13]'),\n",
       " Text(0.9473684210526315, 0.3, 'gini = 0.48\\nsamples = 20\\nvalue = [12, 8]')]"
      ]
     },
     "execution_count": 33,
     "metadata": {},
     "output_type": "execute_result"
    },
    {
     "data": {
      "image/png": "[encoded data removed]",
      "text/plain": [
       "<Figure size 432x288 with 1 Axes>"
      ]
     },
     "metadata": {
      "needs_background": "light"
     },
     "output_type": "display_data"
    }
   ],
   "source": [
    "# omd\n",
    "model = DecisionTreeClassifier(class_weight=None,\n",
    "                                criterion='gini', \n",
    "                                max_depth=7, \n",
    "                                max_features=0.78, \n",
    "                                max_leaf_nodes=45, \n",
    "                                min_impurity_decrease=0.0, \n",
    "                                # min_impurity_split=None, \n",
    "                                min_samples_leaf=0.045, \n",
    "                                min_samples_split=9,\n",
    "                                min_weight_fraction_leaf=0.06, \n",
    "                                # presort=False, \n",
    "                                random_state=2,\n",
    "                                splitter='best')\n",
    "\n",
    "accu_scores = cross_val_score(model, X, y, cv=5)\n",
    "roc_scores = cross_val_score(model, X, y, cv=5, scoring='roc_auc')\n",
    "print('Accuracy:', np.round(accu_scores, 2))\n",
    "print('Accuracy mean: %0.2f' % (scores.mean()))\n",
    "print('ROC: {}'.format(np.round(roc_scores, 2)))\n",
    "print('ROC mean: {0:0.2f}'.format(roc_scores.mean()))\n",
    "print('Target variable:')\n",
    "print(y.value_counts())\n",
    "\n",
    "model.fit(X, y)\n",
    "y_pred_proba = model.predict_proba(X)[:,1]\n",
    "fpr, tpr, _ = metrics.roc_curve(y,  y_pred_proba)\n",
    "\n",
    "#create ROC curve\n",
    "plt.figure(figsize=(5, 5))\n",
    "plt.plot(fpr,tpr, label='ROC curve of Decision Tree')\n",
    "plt.plot([0, 1], [0, 1], color='grey', ls='--')\n",
    "plt.title('ROC curve on entire dataset', size=14)\n",
    "plt.ylabel('True Positive Rate')\n",
    "plt.xlabel('False Positive Rate')\n",
    "plt.grid(True)\n",
    "plt.legend()\n",
    "plt.show()\n",
    "\n",
    "# plot the tree\n",
    "import sklearn.tree as tree\n",
    "import graphviz \n",
    "dot_data = tree.export_graphviz(model, out_file=None) \n",
    "graph = graphviz.Source(dot_data) \n",
    "graph.render(\"heart\") \n",
    "tree.plot_tree(model)"
   ]
  },
  {
   "cell_type": "markdown",
   "metadata": {},
   "source": [
    "import matplotlib.pyplot as plt\n",
    "\n",
    "plt.figure(figsize=(20,16))# set plot size (denoted in inches)\n",
    "tree.plot_tree(,fontsize=10)"
   ]
  },
  {
   "cell_type": "code",
   "execution_count": 38,
   "metadata": {},
   "outputs": [
    {
     "data": {
      "text/plain": [
       "array([0, 1])"
      ]
     },
     "execution_count": 38,
     "metadata": {},
     "output_type": "execute_result"
    }
   ],
   "source": [
    "model.classes_"
   ]
  },
  {
   "cell_type": "code",
   "execution_count": 41,
   "metadata": {},
   "outputs": [
    {
     "data": {
      "image/svg+xml": "<?xml version=\"1.0\" encoding=\"UTF-8\" standalone=\"no\"?>\n<!DOCTYPE svg PUBLIC \"-//W3C//DTD SVG 1.1//EN\"\n \"http://www.w3.org/Graphics/SVG/1.1/DTD/svg11.dtd\">\n<!-- Generated by graphviz version 2.40.1 (20161225.0304)\n -->\n<!-- Title: Tree Pages: 1 -->\n<svg width=\"1112pt\" height=\"477pt\"\n viewBox=\"0.00 0.00 1112.00 477.00\" xmlns=\"http://www.w3.org/2000/svg\" xmlns:xlink=\"http://www.w3.org/1999/xlink\">\n<g id=\"graph0\" class=\"graph\" transform=\"scale(1 1) rotate(0) translate(4 473)\">\n<title>Tree</title>\n<polygon fill=\"#ffffff\" stroke=\"transparent\" points=\"-4,4 -4,-473 1108,-473 1108,4 -4,4\"/>\n<!-- 0 -->\n<g id=\"node1\" class=\"node\">\n<title>0</title>\n<path fill=\"#dfeffb\" stroke=\"#000000\" d=\"M653.5,-469C653.5,-469 549.5,-469 549.5,-469 543.5,-469 537.5,-463 537.5,-457 537.5,-457 537.5,-413 537.5,-413 537.5,-407 543.5,-401 549.5,-401 549.5,-401 653.5,-401 653.5,-401 659.5,-401 665.5,-407 665.5,-413 665.5,-413 665.5,-457 665.5,-457 665.5,-463 659.5,-469 653.5,-469\"/>\n<text text-anchor=\"start\" x=\"576.5\" y=\"-453.8\" font-family=\"Helvetica,sans-Serif\" font-size=\"14.00\" fill=\"#000000\">cp ≤ 0.5</text>\n<text text-anchor=\"start\" x=\"565\" y=\"-438.8\" font-family=\"Helvetica,sans-Serif\" font-size=\"14.00\" fill=\"#000000\">gini = 0.496</text>\n<text text-anchor=\"start\" x=\"555.5\" y=\"-423.8\" font-family=\"Helvetica,sans-Serif\" font-size=\"14.00\" fill=\"#000000\">samples = 303</text>\n<text text-anchor=\"start\" x=\"545.5\" y=\"-408.8\" font-family=\"Helvetica,sans-Serif\" font-size=\"14.00\" fill=\"#000000\">value = [138, 165]</text>\n</g>\n<!-- 1 -->\n<g id=\"node2\" class=\"node\">\n<title>1</title>\n<path fill=\"#efb083\" stroke=\"#000000\" d=\"M529.5,-365C529.5,-365 433.5,-365 433.5,-365 427.5,-365 421.5,-359 421.5,-353 421.5,-353 421.5,-309 421.5,-309 421.5,-303 427.5,-297 433.5,-297 433.5,-297 529.5,-297 529.5,-297 535.5,-297 541.5,-303 541.5,-309 541.5,-309 541.5,-353 541.5,-353 541.5,-359 535.5,-365 529.5,-365\"/>\n<text text-anchor=\"start\" x=\"456.5\" y=\"-349.8\" font-family=\"Helvetica,sans-Serif\" font-size=\"14.00\" fill=\"#000000\">ca ≤ 0.5</text>\n<text text-anchor=\"start\" x=\"445\" y=\"-334.8\" font-family=\"Helvetica,sans-Serif\" font-size=\"14.00\" fill=\"#000000\">gini = 0.397</text>\n<text text-anchor=\"start\" x=\"435.5\" y=\"-319.8\" font-family=\"Helvetica,sans-Serif\" font-size=\"14.00\" fill=\"#000000\">samples = 143</text>\n<text text-anchor=\"start\" x=\"429.5\" y=\"-304.8\" font-family=\"Helvetica,sans-Serif\" font-size=\"14.00\" fill=\"#000000\">value = [104, 39]</text>\n</g>\n<!-- 0&#45;&gt;1 -->\n<g id=\"edge1\" class=\"edge\">\n<title>0&#45;&gt;1</title>\n<path fill=\"none\" stroke=\"#000000\" d=\"M562.2075,-400.9465C551.4333,-391.6088 539.6436,-381.3911 528.485,-371.7203\"/>\n<polygon fill=\"#000000\" stroke=\"#000000\" points=\"530.7299,-369.0344 520.8808,-365.13 526.1454,-374.3243 530.7299,-369.0344\"/>\n<text text-anchor=\"middle\" x=\"522.6619\" y=\"-386.3665\" font-family=\"Helvetica,sans-Serif\" font-size=\"14.00\" fill=\"#000000\">True</text>\n</g>\n<!-- 2 -->\n<g id=\"node13\" class=\"node\">\n<title>2</title>\n<path fill=\"#6eb7ec\" stroke=\"#000000\" d=\"M779.5,-365C779.5,-365 683.5,-365 683.5,-365 677.5,-365 671.5,-359 671.5,-353 671.5,-353 671.5,-309 671.5,-309 671.5,-303 677.5,-297 683.5,-297 683.5,-297 779.5,-297 779.5,-297 785.5,-297 791.5,-303 791.5,-309 791.5,-309 791.5,-353 791.5,-353 791.5,-359 785.5,-365 779.5,-365\"/>\n<text text-anchor=\"start\" x=\"702.5\" y=\"-349.8\" font-family=\"Helvetica,sans-Serif\" font-size=\"14.00\" fill=\"#000000\">thal ≤ 2.5</text>\n<text text-anchor=\"start\" x=\"695\" y=\"-334.8\" font-family=\"Helvetica,sans-Serif\" font-size=\"14.00\" fill=\"#000000\">gini = 0.335</text>\n<text text-anchor=\"start\" x=\"685.5\" y=\"-319.8\" font-family=\"Helvetica,sans-Serif\" font-size=\"14.00\" fill=\"#000000\">samples = 160</text>\n<text text-anchor=\"start\" x=\"679.5\" y=\"-304.8\" font-family=\"Helvetica,sans-Serif\" font-size=\"14.00\" fill=\"#000000\">value = [34, 126]</text>\n</g>\n<!-- 0&#45;&gt;2 -->\n<g id=\"edge12\" class=\"edge\">\n<title>0&#45;&gt;2</title>\n<path fill=\"none\" stroke=\"#000000\" d=\"M644.0669,-400.9465C655.8512,-391.519 668.7568,-381.1946 680.9481,-371.4415\"/>\n<polygon fill=\"#000000\" stroke=\"#000000\" points=\"683.2152,-374.11 688.8375,-365.13 678.8423,-368.6439 683.2152,-374.11\"/>\n<text text-anchor=\"middle\" x=\"686.0767\" y=\"-386.2771\" font-family=\"Helvetica,sans-Serif\" font-size=\"14.00\" fill=\"#000000\">False</text>\n</g>\n<!-- 3 -->\n<g id=\"node3\" class=\"node\">\n<title>3</title>\n<path fill=\"#eef6fd\" stroke=\"#000000\" d=\"M342,-261C342,-261 253,-261 253,-261 247,-261 241,-255 241,-249 241,-249 241,-205 241,-205 241,-199 247,-193 253,-193 253,-193 342,-193 342,-193 348,-193 354,-199 354,-205 354,-205 354,-249 354,-249 354,-255 348,-261 342,-261\"/>\n<text text-anchor=\"start\" x=\"268.5\" y=\"-245.8\" font-family=\"Helvetica,sans-Serif\" font-size=\"14.00\" fill=\"#000000\">thal ≤ 2.5</text>\n<text text-anchor=\"start\" x=\"261\" y=\"-230.8\" font-family=\"Helvetica,sans-Serif\" font-size=\"14.00\" fill=\"#000000\">gini = 0.499</text>\n<text text-anchor=\"start\" x=\"255.5\" y=\"-215.8\" font-family=\"Helvetica,sans-Serif\" font-size=\"14.00\" fill=\"#000000\">samples = 65</text>\n<text text-anchor=\"start\" x=\"249\" y=\"-200.8\" font-family=\"Helvetica,sans-Serif\" font-size=\"14.00\" fill=\"#000000\">value = [31, 34]</text>\n</g>\n<!-- 1&#45;&gt;3 -->\n<g id=\"edge2\" class=\"edge\">\n<title>1&#45;&gt;3</title>\n<path fill=\"none\" stroke=\"#000000\" d=\"M421.2515,-296.9465C402.6127,-286.4115 381.9921,-274.7564 363.015,-264.0302\"/>\n<polygon fill=\"#000000\" stroke=\"#000000\" points=\"364.5647,-260.8858 354.1368,-259.0121 361.1203,-266.9797 364.5647,-260.8858\"/>\n</g>\n<!-- 4 -->\n<g id=\"node8\" class=\"node\">\n<title>4</title>\n<path fill=\"#e78a47\" stroke=\"#000000\" d=\"M528,-261C528,-261 435,-261 435,-261 429,-261 423,-255 423,-249 423,-249 423,-205 423,-205 423,-199 429,-193 435,-193 435,-193 528,-193 528,-193 534,-193 540,-199 540,-205 540,-205 540,-249 540,-249 540,-255 534,-261 528,-261\"/>\n<text text-anchor=\"start\" x=\"431\" y=\"-245.8\" font-family=\"Helvetica,sans-Serif\" font-size=\"14.00\" fill=\"#000000\">trestbps ≤ 131.0</text>\n<text text-anchor=\"start\" x=\"449\" y=\"-230.8\" font-family=\"Helvetica,sans-Serif\" font-size=\"14.00\" fill=\"#000000\">gini = 0.12</text>\n<text text-anchor=\"start\" x=\"439.5\" y=\"-215.8\" font-family=\"Helvetica,sans-Serif\" font-size=\"14.00\" fill=\"#000000\">samples = 78</text>\n<text text-anchor=\"start\" x=\"437\" y=\"-200.8\" font-family=\"Helvetica,sans-Serif\" font-size=\"14.00\" fill=\"#000000\">value = [73, 5]</text>\n</g>\n<!-- 1&#45;&gt;4 -->\n<g id=\"edge7\" class=\"edge\">\n<title>1&#45;&gt;4</title>\n<path fill=\"none\" stroke=\"#000000\" d=\"M481.5,-296.9465C481.5,-288.776 481.5,-279.9318 481.5,-271.3697\"/>\n<polygon fill=\"#000000\" stroke=\"#000000\" points=\"485.0001,-271.13 481.5,-261.13 478.0001,-271.13 485.0001,-271.13\"/>\n</g>\n<!-- 5 -->\n<g id=\"node4\" class=\"node\">\n<title>5</title>\n<path fill=\"#76bbed\" stroke=\"#000000\" d=\"M215,-157C215,-157 134,-157 134,-157 128,-157 122,-151 122,-145 122,-145 122,-101 122,-101 122,-95 128,-89 134,-89 134,-89 215,-89 215,-89 221,-89 227,-95 227,-101 227,-101 227,-145 227,-145 227,-151 221,-157 215,-157\"/>\n<text text-anchor=\"start\" x=\"141\" y=\"-141.8\" font-family=\"Helvetica,sans-Serif\" font-size=\"14.00\" fill=\"#000000\">age ≤ 53.5</text>\n<text text-anchor=\"start\" x=\"138\" y=\"-126.8\" font-family=\"Helvetica,sans-Serif\" font-size=\"14.00\" fill=\"#000000\">gini = 0.361</text>\n<text text-anchor=\"start\" x=\"132.5\" y=\"-111.8\" font-family=\"Helvetica,sans-Serif\" font-size=\"14.00\" fill=\"#000000\">samples = 38</text>\n<text text-anchor=\"start\" x=\"130\" y=\"-96.8\" font-family=\"Helvetica,sans-Serif\" font-size=\"14.00\" fill=\"#000000\">value = [9, 29]</text>\n</g>\n<!-- 3&#45;&gt;5 -->\n<g id=\"edge3\" class=\"edge\">\n<title>3&#45;&gt;5</title>\n<path fill=\"none\" stroke=\"#000000\" d=\"M257.2252,-192.9465C246.1816,-183.6088 234.0972,-173.3911 222.6596,-163.7203\"/>\n<polygon fill=\"#000000\" stroke=\"#000000\" points=\"224.7614,-160.914 214.8653,-157.13 220.2417,-166.2594 224.7614,-160.914\"/>\n</g>\n<!-- 6 -->\n<g id=\"node7\" class=\"node\">\n<title>6</title>\n<path fill=\"#eb9e66\" stroke=\"#000000\" d=\"M338,-149.5C338,-149.5 257,-149.5 257,-149.5 251,-149.5 245,-143.5 245,-137.5 245,-137.5 245,-108.5 245,-108.5 245,-102.5 251,-96.5 257,-96.5 257,-96.5 338,-96.5 338,-96.5 344,-96.5 350,-102.5 350,-108.5 350,-108.5 350,-137.5 350,-137.5 350,-143.5 344,-149.5 338,-149.5\"/>\n<text text-anchor=\"start\" x=\"261\" y=\"-134.3\" font-family=\"Helvetica,sans-Serif\" font-size=\"14.00\" fill=\"#000000\">gini = 0.302</text>\n<text text-anchor=\"start\" x=\"255.5\" y=\"-119.3\" font-family=\"Helvetica,sans-Serif\" font-size=\"14.00\" fill=\"#000000\">samples = 27</text>\n<text text-anchor=\"start\" x=\"253\" y=\"-104.3\" font-family=\"Helvetica,sans-Serif\" font-size=\"14.00\" fill=\"#000000\">value = [22, 5]</text>\n</g>\n<!-- 3&#45;&gt;6 -->\n<g id=\"edge6\" class=\"edge\">\n<title>3&#45;&gt;6</title>\n<path fill=\"none\" stroke=\"#000000\" d=\"M297.5,-192.9465C297.5,-182.2621 297.5,-170.4254 297.5,-159.5742\"/>\n<polygon fill=\"#000000\" stroke=\"#000000\" points=\"301.0001,-159.5421 297.5,-149.5422 294.0001,-159.5422 301.0001,-159.5421\"/>\n</g>\n<!-- 17 -->\n<g id=\"node5\" class=\"node\">\n<title>17</title>\n<path fill=\"#5eafea\" stroke=\"#000000\" d=\"M93,-53C93,-53 12,-53 12,-53 6,-53 0,-47 0,-41 0,-41 0,-12 0,-12 0,-6 6,0 12,0 12,0 93,0 93,0 99,0 105,-6 105,-12 105,-12 105,-41 105,-41 105,-47 99,-53 93,-53\"/>\n<text text-anchor=\"start\" x=\"16\" y=\"-37.8\" font-family=\"Helvetica,sans-Serif\" font-size=\"14.00\" fill=\"#000000\">gini = 0.266</text>\n<text text-anchor=\"start\" x=\"10.5\" y=\"-22.8\" font-family=\"Helvetica,sans-Serif\" font-size=\"14.00\" fill=\"#000000\">samples = 19</text>\n<text text-anchor=\"start\" x=\"8\" y=\"-7.8\" font-family=\"Helvetica,sans-Serif\" font-size=\"14.00\" fill=\"#000000\">value = [3, 16]</text>\n</g>\n<!-- 5&#45;&gt;17 -->\n<g id=\"edge4\" class=\"edge\">\n<title>5&#45;&gt;17</title>\n<path fill=\"none\" stroke=\"#000000\" d=\"M131.4874,-88.9777C119.4476,-79.4545 106.3812,-69.1191 94.4065,-59.6473\"/>\n<polygon fill=\"#000000\" stroke=\"#000000\" points=\"96.3311,-56.7072 86.3167,-53.2485 91.9885,-62.1973 96.3311,-56.7072\"/>\n</g>\n<!-- 18 -->\n<g id=\"node6\" class=\"node\">\n<title>18</title>\n<path fill=\"#94caf1\" stroke=\"#000000\" d=\"M216,-53C216,-53 135,-53 135,-53 129,-53 123,-47 123,-41 123,-41 123,-12 123,-12 123,-6 129,0 135,0 135,0 216,0 216,0 222,0 228,-6 228,-12 228,-12 228,-41 228,-41 228,-47 222,-53 216,-53\"/>\n<text text-anchor=\"start\" x=\"139\" y=\"-37.8\" font-family=\"Helvetica,sans-Serif\" font-size=\"14.00\" fill=\"#000000\">gini = 0.432</text>\n<text text-anchor=\"start\" x=\"133.5\" y=\"-22.8\" font-family=\"Helvetica,sans-Serif\" font-size=\"14.00\" fill=\"#000000\">samples = 19</text>\n<text text-anchor=\"start\" x=\"131\" y=\"-7.8\" font-family=\"Helvetica,sans-Serif\" font-size=\"14.00\" fill=\"#000000\">value = [6, 13]</text>\n</g>\n<!-- 5&#45;&gt;18 -->\n<g id=\"edge5\" class=\"edge\">\n<title>5&#45;&gt;18</title>\n<path fill=\"none\" stroke=\"#000000\" d=\"M174.8526,-88.9777C174.938,-80.7364 175.0297,-71.887 175.1164,-63.5153\"/>\n<polygon fill=\"#000000\" stroke=\"#000000\" points=\"178.6189,-63.2842 175.2228,-53.2485 171.6193,-63.2116 178.6189,-63.2842\"/>\n</g>\n<!-- 19 -->\n<g id=\"node9\" class=\"node\">\n<title>19</title>\n<path fill=\"#e89152\" stroke=\"#000000\" d=\"M461,-157C461,-157 380,-157 380,-157 374,-157 368,-151 368,-145 368,-145 368,-101 368,-101 368,-95 374,-89 380,-89 380,-89 461,-89 461,-89 467,-89 473,-95 473,-101 473,-101 473,-145 473,-145 473,-151 467,-157 461,-157\"/>\n<text text-anchor=\"start\" x=\"378.5\" y=\"-141.8\" font-family=\"Helvetica,sans-Serif\" font-size=\"14.00\" fill=\"#000000\">oldpeak ≤ 1.1</text>\n<text text-anchor=\"start\" x=\"384\" y=\"-126.8\" font-family=\"Helvetica,sans-Serif\" font-size=\"14.00\" fill=\"#000000\">gini = 0.198</text>\n<text text-anchor=\"start\" x=\"378.5\" y=\"-111.8\" font-family=\"Helvetica,sans-Serif\" font-size=\"14.00\" fill=\"#000000\">samples = 45</text>\n<text text-anchor=\"start\" x=\"376\" y=\"-96.8\" font-family=\"Helvetica,sans-Serif\" font-size=\"14.00\" fill=\"#000000\">value = [40, 5]</text>\n</g>\n<!-- 4&#45;&gt;19 -->\n<g id=\"edge8\" class=\"edge\">\n<title>4&#45;&gt;19</title>\n<path fill=\"none\" stroke=\"#000000\" d=\"M461.5263,-192.9465C456.4707,-184.3271 450.9753,-174.9579 445.6983,-165.9611\"/>\n<polygon fill=\"#000000\" stroke=\"#000000\" points=\"448.5969,-163.985 440.5186,-157.13 442.5589,-167.5265 448.5969,-163.985\"/>\n</g>\n<!-- 20 -->\n<g id=\"node12\" class=\"node\">\n<title>20</title>\n<path fill=\"#e58139\" stroke=\"#000000\" d=\"M584,-149.5C584,-149.5 503,-149.5 503,-149.5 497,-149.5 491,-143.5 491,-137.5 491,-137.5 491,-108.5 491,-108.5 491,-102.5 497,-96.5 503,-96.5 503,-96.5 584,-96.5 584,-96.5 590,-96.5 596,-102.5 596,-108.5 596,-108.5 596,-137.5 596,-137.5 596,-143.5 590,-149.5 584,-149.5\"/>\n<text text-anchor=\"start\" x=\"514.5\" y=\"-134.3\" font-family=\"Helvetica,sans-Serif\" font-size=\"14.00\" fill=\"#000000\">gini = 0.0</text>\n<text text-anchor=\"start\" x=\"501.5\" y=\"-119.3\" font-family=\"Helvetica,sans-Serif\" font-size=\"14.00\" fill=\"#000000\">samples = 33</text>\n<text text-anchor=\"start\" x=\"499\" y=\"-104.3\" font-family=\"Helvetica,sans-Serif\" font-size=\"14.00\" fill=\"#000000\">value = [33, 0]</text>\n</g>\n<!-- 4&#45;&gt;20 -->\n<g id=\"edge11\" class=\"edge\">\n<title>4&#45;&gt;20</title>\n<path fill=\"none\" stroke=\"#000000\" d=\"M501.8011,-192.9465C508.4334,-181.8215 515.8103,-169.4473 522.4933,-158.237\"/>\n<polygon fill=\"#000000\" stroke=\"#000000\" points=\"525.5624,-159.9239 527.6768,-149.5422 519.5498,-156.3394 525.5624,-159.9239\"/>\n</g>\n<!-- 21 -->\n<g id=\"node10\" class=\"node\">\n<title>21</title>\n<path fill=\"#eca36e\" stroke=\"#000000\" d=\"M345,-53C345,-53 264,-53 264,-53 258,-53 252,-47 252,-41 252,-41 252,-12 252,-12 252,-6 258,0 264,0 264,0 345,0 345,0 351,0 357,-6 357,-12 357,-12 357,-41 357,-41 357,-47 351,-53 345,-53\"/>\n<text text-anchor=\"start\" x=\"268\" y=\"-37.8\" font-family=\"Helvetica,sans-Serif\" font-size=\"14.00\" fill=\"#000000\">gini = 0.332</text>\n<text text-anchor=\"start\" x=\"262.5\" y=\"-22.8\" font-family=\"Helvetica,sans-Serif\" font-size=\"14.00\" fill=\"#000000\">samples = 19</text>\n<text text-anchor=\"start\" x=\"260\" y=\"-7.8\" font-family=\"Helvetica,sans-Serif\" font-size=\"14.00\" fill=\"#000000\">value = [15, 4]</text>\n</g>\n<!-- 19&#45;&gt;21 -->\n<g id=\"edge9\" class=\"edge\">\n<title>19&#45;&gt;21</title>\n<path fill=\"none\" stroke=\"#000000\" d=\"M379.6027,-88.9777C368.1551,-79.4545 355.7313,-69.1191 344.3455,-59.6473\"/>\n<polygon fill=\"#000000\" stroke=\"#000000\" points=\"346.5797,-56.9532 336.6536,-53.2485 342.1029,-62.3345 346.5797,-56.9532\"/>\n</g>\n<!-- 22 -->\n<g id=\"node11\" class=\"node\">\n<title>22</title>\n<path fill=\"#e68641\" stroke=\"#000000\" d=\"M468,-53C468,-53 387,-53 387,-53 381,-53 375,-47 375,-41 375,-41 375,-12 375,-12 375,-6 381,0 387,0 387,0 468,0 468,0 474,0 480,-6 480,-12 480,-12 480,-41 480,-41 480,-47 474,-53 468,-53\"/>\n<text text-anchor=\"start\" x=\"391\" y=\"-37.8\" font-family=\"Helvetica,sans-Serif\" font-size=\"14.00\" fill=\"#000000\">gini = 0.074</text>\n<text text-anchor=\"start\" x=\"385.5\" y=\"-22.8\" font-family=\"Helvetica,sans-Serif\" font-size=\"14.00\" fill=\"#000000\">samples = 26</text>\n<text text-anchor=\"start\" x=\"383\" y=\"-7.8\" font-family=\"Helvetica,sans-Serif\" font-size=\"14.00\" fill=\"#000000\">value = [25, 1]</text>\n</g>\n<!-- 19&#45;&gt;22 -->\n<g id=\"edge10\" class=\"edge\">\n<title>19&#45;&gt;22</title>\n<path fill=\"none\" stroke=\"#000000\" d=\"M422.9679,-88.9777C423.5724,-80.6449 424.222,-71.6903 424.8352,-63.2364\"/>\n<polygon fill=\"#000000\" stroke=\"#000000\" points=\"428.3269,-63.4755 425.5597,-53.2485 421.3453,-62.969 428.3269,-63.4755\"/>\n</g>\n<!-- 7 -->\n<g id=\"node14\" class=\"node\">\n<title>7</title>\n<path fill=\"#57ace9\" stroke=\"#000000\" d=\"M779.5,-261C779.5,-261 683.5,-261 683.5,-261 677.5,-261 671.5,-255 671.5,-249 671.5,-249 671.5,-205 671.5,-205 671.5,-199 677.5,-193 683.5,-193 683.5,-193 779.5,-193 779.5,-193 785.5,-193 791.5,-199 791.5,-205 791.5,-205 791.5,-249 791.5,-249 791.5,-255 785.5,-261 779.5,-261\"/>\n<text text-anchor=\"start\" x=\"698\" y=\"-245.8\" font-family=\"Helvetica,sans-Serif\" font-size=\"14.00\" fill=\"#000000\">age ≤ 55.5</text>\n<text text-anchor=\"start\" x=\"695\" y=\"-230.8\" font-family=\"Helvetica,sans-Serif\" font-size=\"14.00\" fill=\"#000000\">gini = 0.229</text>\n<text text-anchor=\"start\" x=\"685.5\" y=\"-215.8\" font-family=\"Helvetica,sans-Serif\" font-size=\"14.00\" fill=\"#000000\">samples = 121</text>\n<text text-anchor=\"start\" x=\"679.5\" y=\"-200.8\" font-family=\"Helvetica,sans-Serif\" font-size=\"14.00\" fill=\"#000000\">value = [16, 105]</text>\n</g>\n<!-- 2&#45;&gt;7 -->\n<g id=\"edge13\" class=\"edge\">\n<title>2&#45;&gt;7</title>\n<path fill=\"none\" stroke=\"#000000\" d=\"M731.5,-296.9465C731.5,-288.776 731.5,-279.9318 731.5,-271.3697\"/>\n<polygon fill=\"#000000\" stroke=\"#000000\" points=\"735.0001,-271.13 731.5,-261.13 728.0001,-271.13 735.0001,-271.13\"/>\n</g>\n<!-- 8 -->\n<g id=\"node21\" class=\"node\">\n<title>8</title>\n<path fill=\"#e3f1fb\" stroke=\"#000000\" d=\"M973,-261C973,-261 884,-261 884,-261 878,-261 872,-255 872,-249 872,-249 872,-205 872,-205 872,-199 878,-193 884,-193 884,-193 973,-193 973,-193 979,-193 985,-199 985,-205 985,-205 985,-249 985,-249 985,-255 979,-261 973,-261\"/>\n<text text-anchor=\"start\" x=\"886.5\" y=\"-245.8\" font-family=\"Helvetica,sans-Serif\" font-size=\"14.00\" fill=\"#000000\">oldpeak ≤ 0.9</text>\n<text text-anchor=\"start\" x=\"892\" y=\"-230.8\" font-family=\"Helvetica,sans-Serif\" font-size=\"14.00\" fill=\"#000000\">gini = 0.497</text>\n<text text-anchor=\"start\" x=\"886.5\" y=\"-215.8\" font-family=\"Helvetica,sans-Serif\" font-size=\"14.00\" fill=\"#000000\">samples = 39</text>\n<text text-anchor=\"start\" x=\"880\" y=\"-200.8\" font-family=\"Helvetica,sans-Serif\" font-size=\"14.00\" fill=\"#000000\">value = [18, 21]</text>\n</g>\n<!-- 2&#45;&gt;8 -->\n<g id=\"edge20\" class=\"edge\">\n<title>2&#45;&gt;8</title>\n<path fill=\"none\" stroke=\"#000000\" d=\"M791.6769,-299.2315C814.1527,-287.3661 839.7824,-273.8357 862.7361,-261.718\"/>\n<polygon fill=\"#000000\" stroke=\"#000000\" points=\"864.5125,-264.7381 871.7218,-256.9743 861.2445,-258.5477 864.5125,-264.7381\"/>\n</g>\n<!-- 9 -->\n<g id=\"node15\" class=\"node\">\n<title>9</title>\n<path fill=\"#41a1e6\" stroke=\"#000000\" d=\"M714.5,-157C714.5,-157 626.5,-157 626.5,-157 620.5,-157 614.5,-151 614.5,-145 614.5,-145 614.5,-101 614.5,-101 614.5,-95 620.5,-89 626.5,-89 626.5,-89 714.5,-89 714.5,-89 720.5,-89 726.5,-95 726.5,-101 726.5,-101 726.5,-145 726.5,-145 726.5,-151 720.5,-157 714.5,-157\"/>\n<text text-anchor=\"start\" x=\"622.5\" y=\"-141.8\" font-family=\"Helvetica,sans-Serif\" font-size=\"14.00\" fill=\"#000000\">thalach ≤ 155.5</text>\n<text text-anchor=\"start\" x=\"634\" y=\"-126.8\" font-family=\"Helvetica,sans-Serif\" font-size=\"14.00\" fill=\"#000000\">gini = 0.076</text>\n<text text-anchor=\"start\" x=\"628.5\" y=\"-111.8\" font-family=\"Helvetica,sans-Serif\" font-size=\"14.00\" fill=\"#000000\">samples = 76</text>\n<text text-anchor=\"start\" x=\"626\" y=\"-96.8\" font-family=\"Helvetica,sans-Serif\" font-size=\"14.00\" fill=\"#000000\">value = [3, 73]</text>\n</g>\n<!-- 7&#45;&gt;9 -->\n<g id=\"edge14\" class=\"edge\">\n<title>7&#45;&gt;9</title>\n<path fill=\"none\" stroke=\"#000000\" d=\"M711.5263,-192.9465C706.4707,-184.3271 700.9753,-174.9579 695.6983,-165.9611\"/>\n<polygon fill=\"#000000\" stroke=\"#000000\" points=\"698.5969,-163.985 690.5186,-157.13 692.5589,-167.5265 698.5969,-163.985\"/>\n</g>\n<!-- 10 -->\n<g id=\"node18\" class=\"node\">\n<title>10</title>\n<path fill=\"#89c5f0\" stroke=\"#000000\" d=\"M846,-157C846,-157 757,-157 757,-157 751,-157 745,-151 745,-145 745,-145 745,-101 745,-101 745,-95 751,-89 757,-89 757,-89 846,-89 846,-89 852,-89 858,-95 858,-101 858,-101 858,-145 858,-145 858,-151 852,-157 846,-157\"/>\n<text text-anchor=\"start\" x=\"773\" y=\"-141.8\" font-family=\"Helvetica,sans-Serif\" font-size=\"14.00\" fill=\"#000000\">sex ≤ 0.5</text>\n<text text-anchor=\"start\" x=\"765\" y=\"-126.8\" font-family=\"Helvetica,sans-Serif\" font-size=\"14.00\" fill=\"#000000\">gini = 0.411</text>\n<text text-anchor=\"start\" x=\"759.5\" y=\"-111.8\" font-family=\"Helvetica,sans-Serif\" font-size=\"14.00\" fill=\"#000000\">samples = 45</text>\n<text text-anchor=\"start\" x=\"753\" y=\"-96.8\" font-family=\"Helvetica,sans-Serif\" font-size=\"14.00\" fill=\"#000000\">value = [13, 32]</text>\n</g>\n<!-- 7&#45;&gt;10 -->\n<g id=\"edge17\" class=\"edge\">\n<title>7&#45;&gt;10</title>\n<path fill=\"none\" stroke=\"#000000\" d=\"M754.4206,-192.9465C760.2826,-184.2373 766.6598,-174.7626 772.773,-165.6801\"/>\n<polygon fill=\"#000000\" stroke=\"#000000\" points=\"775.8476,-167.3802 778.5279,-157.13 770.0405,-163.4716 775.8476,-167.3802\"/>\n</g>\n<!-- 15 -->\n<g id=\"node16\" class=\"node\">\n<title>15</title>\n<path fill=\"#5eafea\" stroke=\"#000000\" d=\"M594,-53C594,-53 513,-53 513,-53 507,-53 501,-47 501,-41 501,-41 501,-12 501,-12 501,-6 507,0 513,0 513,0 594,0 594,0 600,0 606,-6 606,-12 606,-12 606,-41 606,-41 606,-47 600,-53 594,-53\"/>\n<text text-anchor=\"start\" x=\"517\" y=\"-37.8\" font-family=\"Helvetica,sans-Serif\" font-size=\"14.00\" fill=\"#000000\">gini = 0.266</text>\n<text text-anchor=\"start\" x=\"511.5\" y=\"-22.8\" font-family=\"Helvetica,sans-Serif\" font-size=\"14.00\" fill=\"#000000\">samples = 19</text>\n<text text-anchor=\"start\" x=\"509\" y=\"-7.8\" font-family=\"Helvetica,sans-Serif\" font-size=\"14.00\" fill=\"#000000\">value = [3, 16]</text>\n</g>\n<!-- 9&#45;&gt;15 -->\n<g id=\"edge15\" class=\"edge\">\n<title>9&#45;&gt;15</title>\n<path fill=\"none\" stroke=\"#000000\" d=\"M629.2502,-88.9777C617.7039,-79.4545 605.1729,-69.1191 593.689,-59.6473\"/>\n<polygon fill=\"#000000\" stroke=\"#000000\" points=\"595.8724,-56.9113 585.9308,-53.2485 591.4184,-62.3115 595.8724,-56.9113\"/>\n</g>\n<!-- 16 -->\n<g id=\"node17\" class=\"node\">\n<title>16</title>\n<path fill=\"#399de5\" stroke=\"#000000\" d=\"M717,-53C717,-53 636,-53 636,-53 630,-53 624,-47 624,-41 624,-41 624,-12 624,-12 624,-6 630,0 636,0 636,0 717,0 717,0 723,0 729,-6 729,-12 729,-12 729,-41 729,-41 729,-47 723,-53 717,-53\"/>\n<text text-anchor=\"start\" x=\"647.5\" y=\"-37.8\" font-family=\"Helvetica,sans-Serif\" font-size=\"14.00\" fill=\"#000000\">gini = 0.0</text>\n<text text-anchor=\"start\" x=\"634.5\" y=\"-22.8\" font-family=\"Helvetica,sans-Serif\" font-size=\"14.00\" fill=\"#000000\">samples = 57</text>\n<text text-anchor=\"start\" x=\"632\" y=\"-7.8\" font-family=\"Helvetica,sans-Serif\" font-size=\"14.00\" fill=\"#000000\">value = [0, 57]</text>\n</g>\n<!-- 9&#45;&gt;16 -->\n<g id=\"edge16\" class=\"edge\">\n<title>9&#45;&gt;16</title>\n<path fill=\"none\" stroke=\"#000000\" d=\"M672.6154,-88.9777C673.1335,-80.6449 673.6902,-71.6903 674.2159,-63.2364\"/>\n<polygon fill=\"#000000\" stroke=\"#000000\" points=\"677.7095,-63.4464 674.8369,-53.2485 670.723,-63.012 677.7095,-63.4464\"/>\n</g>\n<!-- 11 -->\n<g id=\"node19\" class=\"node\">\n<title>11</title>\n<path fill=\"#4da7e8\" stroke=\"#000000\" d=\"M841,-53C841,-53 760,-53 760,-53 754,-53 748,-47 748,-41 748,-41 748,-12 748,-12 748,-6 754,0 760,0 760,0 841,0 841,0 847,0 853,-6 853,-12 853,-12 853,-41 853,-41 853,-47 847,-53 841,-53\"/>\n<text text-anchor=\"start\" x=\"764\" y=\"-37.8\" font-family=\"Helvetica,sans-Serif\" font-size=\"14.00\" fill=\"#000000\">gini = 0.165</text>\n<text text-anchor=\"start\" x=\"758.5\" y=\"-22.8\" font-family=\"Helvetica,sans-Serif\" font-size=\"14.00\" fill=\"#000000\">samples = 22</text>\n<text text-anchor=\"start\" x=\"756\" y=\"-7.8\" font-family=\"Helvetica,sans-Serif\" font-size=\"14.00\" fill=\"#000000\">value = [2, 20]</text>\n</g>\n<!-- 10&#45;&gt;11 -->\n<g id=\"edge18\" class=\"edge\">\n<title>10&#45;&gt;11</title>\n<path fill=\"none\" stroke=\"#000000\" d=\"M801.1474,-88.9777C801.062,-80.7364 800.9703,-71.887 800.8836,-63.5153\"/>\n<polygon fill=\"#000000\" stroke=\"#000000\" points=\"804.3807,-63.2116 800.7772,-53.2485 797.3811,-63.2842 804.3807,-63.2116\"/>\n</g>\n<!-- 12 -->\n<g id=\"node20\" class=\"node\">\n<title>12</title>\n<path fill=\"#eff7fd\" stroke=\"#000000\" d=\"M972,-53C972,-53 883,-53 883,-53 877,-53 871,-47 871,-41 871,-41 871,-12 871,-12 871,-6 877,0 883,0 883,0 972,0 972,0 978,0 984,-6 984,-12 984,-12 984,-41 984,-41 984,-47 978,-53 972,-53\"/>\n<text text-anchor=\"start\" x=\"891\" y=\"-37.8\" font-family=\"Helvetica,sans-Serif\" font-size=\"14.00\" fill=\"#000000\">gini = 0.499</text>\n<text text-anchor=\"start\" x=\"885.5\" y=\"-22.8\" font-family=\"Helvetica,sans-Serif\" font-size=\"14.00\" fill=\"#000000\">samples = 23</text>\n<text text-anchor=\"start\" x=\"879\" y=\"-7.8\" font-family=\"Helvetica,sans-Serif\" font-size=\"14.00\" fill=\"#000000\">value = [11, 12]</text>\n</g>\n<!-- 10&#45;&gt;12 -->\n<g id=\"edge19\" class=\"edge\">\n<title>10&#45;&gt;12</title>\n<path fill=\"none\" stroke=\"#000000\" d=\"M845.9229,-88.9777C858.477,-79.3629 872.1119,-68.9203 884.576,-59.3743\"/>\n<polygon fill=\"#000000\" stroke=\"#000000\" points=\"886.7635,-62.1076 892.5745,-53.2485 882.5073,-56.5502 886.7635,-62.1076\"/>\n</g>\n<!-- 13 -->\n<g id=\"node22\" class=\"node\">\n<title>13</title>\n<path fill=\"#94caf1\" stroke=\"#000000\" d=\"M969,-149.5C969,-149.5 888,-149.5 888,-149.5 882,-149.5 876,-143.5 876,-137.5 876,-137.5 876,-108.5 876,-108.5 876,-102.5 882,-96.5 888,-96.5 888,-96.5 969,-96.5 969,-96.5 975,-96.5 981,-102.5 981,-108.5 981,-108.5 981,-137.5 981,-137.5 981,-143.5 975,-149.5 969,-149.5\"/>\n<text text-anchor=\"start\" x=\"892\" y=\"-134.3\" font-family=\"Helvetica,sans-Serif\" font-size=\"14.00\" fill=\"#000000\">gini = 0.432</text>\n<text text-anchor=\"start\" x=\"886.5\" y=\"-119.3\" font-family=\"Helvetica,sans-Serif\" font-size=\"14.00\" fill=\"#000000\">samples = 19</text>\n<text text-anchor=\"start\" x=\"884\" y=\"-104.3\" font-family=\"Helvetica,sans-Serif\" font-size=\"14.00\" fill=\"#000000\">value = [6, 13]</text>\n</g>\n<!-- 8&#45;&gt;13 -->\n<g id=\"edge21\" class=\"edge\">\n<title>8&#45;&gt;13</title>\n<path fill=\"none\" stroke=\"#000000\" d=\"M928.5,-192.9465C928.5,-182.2621 928.5,-170.4254 928.5,-159.5742\"/>\n<polygon fill=\"#000000\" stroke=\"#000000\" points=\"932.0001,-159.5421 928.5,-149.5422 925.0001,-159.5422 932.0001,-159.5421\"/>\n</g>\n<!-- 14 -->\n<g id=\"node23\" class=\"node\">\n<title>14</title>\n<path fill=\"#f6d5bd\" stroke=\"#000000\" d=\"M1092,-149.5C1092,-149.5 1011,-149.5 1011,-149.5 1005,-149.5 999,-143.5 999,-137.5 999,-137.5 999,-108.5 999,-108.5 999,-102.5 1005,-96.5 1011,-96.5 1011,-96.5 1092,-96.5 1092,-96.5 1098,-96.5 1104,-102.5 1104,-108.5 1104,-108.5 1104,-137.5 1104,-137.5 1104,-143.5 1098,-149.5 1092,-149.5\"/>\n<text text-anchor=\"start\" x=\"1019\" y=\"-134.3\" font-family=\"Helvetica,sans-Serif\" font-size=\"14.00\" fill=\"#000000\">gini = 0.48</text>\n<text text-anchor=\"start\" x=\"1009.5\" y=\"-119.3\" font-family=\"Helvetica,sans-Serif\" font-size=\"14.00\" fill=\"#000000\">samples = 20</text>\n<text text-anchor=\"start\" x=\"1007\" y=\"-104.3\" font-family=\"Helvetica,sans-Serif\" font-size=\"14.00\" fill=\"#000000\">value = [12, 8]</text>\n</g>\n<!-- 8&#45;&gt;14 -->\n<g id=\"edge22\" class=\"edge\">\n<title>8&#45;&gt;14</title>\n<path fill=\"none\" stroke=\"#000000\" d=\"M968.7748,-192.9465C982.7139,-181.1606 998.3112,-167.9726 1012.1732,-156.2519\"/>\n<polygon fill=\"#000000\" stroke=\"#000000\" points=\"1014.7324,-158.6715 1020.1088,-149.5422 1010.2127,-153.3262 1014.7324,-158.6715\"/>\n</g>\n</g>\n</svg>\n",
      "text/plain": [
       "<graphviz.files.Source at 0x7fe351f3e790>"
      ]
     },
     "execution_count": 41,
     "metadata": {},
     "output_type": "execute_result"
    }
   ],
   "source": [
    "dot_data = tree.export_graphviz(model, out_file=None, \n",
    "                                feature_names=model.feature_names_in_,  \n",
    "                                # class_names=,  \n",
    "                                filled=True, rounded=True,  \n",
    "                                special_characters=True)  \n",
    "graph = graphviz.Source(dot_data)  \n",
    "graph "
   ]
  },
  {
   "cell_type": "code",
   "execution_count": 25,
   "metadata": {},
   "outputs": [
    {
     "data": {
      "text/plain": [
       "array([0.04826754, 0.04081653, 0.48409586, 0.00568635, 0.        ,\n",
       "       0.        , 0.        , 0.00859483, 0.        , 0.02690379,\n",
       "       0.        , 0.18069065, 0.20494446])"
      ]
     },
     "execution_count": 25,
     "metadata": {},
     "output_type": "execute_result"
    }
   ],
   "source": [
    "best_clf.feature_importances_"
   ]
  },
  {
   "cell_type": "code",
   "execution_count": 26,
   "metadata": {},
   "outputs": [
    {
     "data": {
      "text/plain": [
       "[('cp', 0.4840958610240171),\n",
       " ('thal', 0.20494445570568706),\n",
       " ('ca', 0.18069065321397942)]"
      ]
     },
     "execution_count": 26,
     "metadata": {},
     "output_type": "execute_result"
    }
   ],
   "source": [
    "# Zip columns and feature_importances_ into dict\n",
    "feature_dict = dict(zip(X.columns, best_clf.feature_importances_))\n",
    "\n",
    "# Import operator\n",
    "import operator\n",
    "\n",
    "# Sort dict by values (as list of tuples)\n",
    "sorted(feature_dict.items(), key=operator.itemgetter(1), reverse=True)[0:3]"
   ]
  }
 ],
 "metadata": {
  "interpreter": {
   "hash": "bc225608a9b91236e50974500a29359f2d5bdb7074b130270be3c4c66bd4e243"
  },
  "kernelspec": {
   "display_name": "Python 3.8.5 ('omd2022')",
   "language": "python",
   "name": "python3"
  },
  "language_info": {
   "codemirror_mode": {
    "name": "ipython",
    "version": 3
   },
   "file_extension": ".py",
   "mimetype": "text/x-python",
   "name": "python",
   "nbconvert_exporter": "python",
   "pygments_lexer": "ipython3",
   "version": "3.8.5"
  }
 },
 "nbformat": 4,
 "nbformat_minor": 2
}
